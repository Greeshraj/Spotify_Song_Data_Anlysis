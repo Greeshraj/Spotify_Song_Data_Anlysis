{
  "nbformat": 4,
  "nbformat_minor": 0,
  "metadata": {
    "colab": {
      "provenance": []
    },
    "kernelspec": {
      "name": "python3",
      "display_name": "Python 3"
    },
    "language_info": {
      "name": "python"
    }
  },
  "cells": [
    {
      "cell_type": "markdown",
      "source": [
        "# Importing the library"
      ],
      "metadata": {
        "id": "sx38ebnoY2Xl"
      }
    },
    {
      "cell_type": "code",
      "source": [
        "import pandas as pd\n",
        "import matplotlib\n",
        "import matplotlib.pyplot as plt\n",
        "import numpy as np\n"
      ],
      "metadata": {
        "id": "fq5xO_gSYZSE"
      },
      "execution_count": 122,
      "outputs": []
    },
    {
      "cell_type": "markdown",
      "source": [
        "# Reading of the **Dataset**"
      ],
      "metadata": {
        "id": "epAg9HSNZMBY"
      }
    },
    {
      "cell_type": "code",
      "source": [
        "df1 = pd.read_json('/content/endsong_0.json')\n",
        "df2=pd.read_json('/content/endsong_1.json')\n",
        "df3 = pd.read_json('/content/endsong_2.json')\n",
        "df4 = pd.read_json('/content/endvideo.json')"
      ],
      "metadata": {
        "id": "-9LPsPn8ZIaM"
      },
      "execution_count": 123,
      "outputs": []
    },
    {
      "cell_type": "markdown",
      "source": [
        "## About the data set\n"
      ],
      "metadata": {
        "id": "yQF5utpcZLCg"
      }
    },
    {
      "cell_type": "code",
      "source": [
        "df1.head(5)"
      ],
      "metadata": {
        "colab": {
          "base_uri": "https://localhost:8080/",
          "height": 733
        },
        "id": "TEcDA0xyZzEy",
        "outputId": "0ce76dff-ffed-4a0f-e1d9-19fca620c5a3"
      },
      "execution_count": 124,
      "outputs": [
        {
          "output_type": "execute_result",
          "data": {
            "text/plain": [
              "                     ts                      username  \\\n",
              "0  2020-02-24T03:25:10Z  31qv3lgbx4jn45gkwql77frnwvpu   \n",
              "1  2020-02-24T03:27:51Z  31qv3lgbx4jn45gkwql77frnwvpu   \n",
              "2  2020-02-24T03:29:52Z  31qv3lgbx4jn45gkwql77frnwvpu   \n",
              "3  2020-02-24T03:30:07Z  31qv3lgbx4jn45gkwql77frnwvpu   \n",
              "4  2020-02-24T03:30:59Z  31qv3lgbx4jn45gkwql77frnwvpu   \n",
              "\n",
              "                                           platform  ms_played conn_country  \\\n",
              "0  Android OS 8.0.0 API 26 (lenovo, Lenovo K8 Note)      66094           IN   \n",
              "1  Android OS 8.0.0 API 26 (lenovo, Lenovo K8 Note)     160353           IN   \n",
              "2  Android OS 8.0.0 API 26 (lenovo, Lenovo K8 Note)     119683           IN   \n",
              "3  Android OS 8.0.0 API 26 (lenovo, Lenovo K8 Note)      13409           IN   \n",
              "4  Android OS 8.0.0 API 26 (lenovo, Lenovo K8 Note)      43399           IN   \n",
              "\n",
              "  ip_addr_decrypted user_agent_decrypted master_metadata_track_name  \\\n",
              "0     42.106.46.255              unknown              Feel so Lucky   \n",
              "1     42.106.46.255              unknown                   Me & You   \n",
              "2     42.106.46.255              unknown              Lost in Space   \n",
              "3     42.106.46.255              unknown       Just The Way You Are   \n",
              "4     42.106.46.255              unknown        HIGHEST IN THE ROOM   \n",
              "\n",
              "  master_metadata_album_artist_name master_metadata_album_album_name  ...  \\\n",
              "0                           T.L.I.D                    Feel so Lucky  ...   \n",
              "1                           T.L.I.D                         Me & You  ...   \n",
              "2                           T.L.I.D                    Lost in Space  ...   \n",
              "3                        Bruno Mars                    Red Hot R & B  ...   \n",
              "4                      Travis Scott              HIGHEST IN THE ROOM  ...   \n",
              "\n",
              "  episode_name episode_show_name spotify_episode_uri reason_start reason_end  \\\n",
              "0         None              None                None      playbtn  trackdone   \n",
              "1         None              None                None    trackdone  trackdone   \n",
              "2         None              None                None    trackdone    endplay   \n",
              "3         None              None                None     clickrow    endplay   \n",
              "4         None              None                None     clickrow  trackdone   \n",
              "\n",
              "  shuffle  skipped  offline  offline_timestamp  incognito_mode  \n",
              "0   False      NaN    False      1582514642643           False  \n",
              "1   False      NaN    False      1582514709146           False  \n",
              "2   False      NaN    False      1582514869980           False  \n",
              "3   False      NaN    False      1582514991316           False  \n",
              "4   False      NaN    False      1582515005793           False  \n",
              "\n",
              "[5 rows x 21 columns]"
            ],
            "text/html": [
              "\n",
              "  <div id=\"df-9d457f6f-24e3-444e-af91-0c688926ec93\">\n",
              "    <div class=\"colab-df-container\">\n",
              "      <div>\n",
              "<style scoped>\n",
              "    .dataframe tbody tr th:only-of-type {\n",
              "        vertical-align: middle;\n",
              "    }\n",
              "\n",
              "    .dataframe tbody tr th {\n",
              "        vertical-align: top;\n",
              "    }\n",
              "\n",
              "    .dataframe thead th {\n",
              "        text-align: right;\n",
              "    }\n",
              "</style>\n",
              "<table border=\"1\" class=\"dataframe\">\n",
              "  <thead>\n",
              "    <tr style=\"text-align: right;\">\n",
              "      <th></th>\n",
              "      <th>ts</th>\n",
              "      <th>username</th>\n",
              "      <th>platform</th>\n",
              "      <th>ms_played</th>\n",
              "      <th>conn_country</th>\n",
              "      <th>ip_addr_decrypted</th>\n",
              "      <th>user_agent_decrypted</th>\n",
              "      <th>master_metadata_track_name</th>\n",
              "      <th>master_metadata_album_artist_name</th>\n",
              "      <th>master_metadata_album_album_name</th>\n",
              "      <th>...</th>\n",
              "      <th>episode_name</th>\n",
              "      <th>episode_show_name</th>\n",
              "      <th>spotify_episode_uri</th>\n",
              "      <th>reason_start</th>\n",
              "      <th>reason_end</th>\n",
              "      <th>shuffle</th>\n",
              "      <th>skipped</th>\n",
              "      <th>offline</th>\n",
              "      <th>offline_timestamp</th>\n",
              "      <th>incognito_mode</th>\n",
              "    </tr>\n",
              "  </thead>\n",
              "  <tbody>\n",
              "    <tr>\n",
              "      <th>0</th>\n",
              "      <td>2020-02-24T03:25:10Z</td>\n",
              "      <td>31qv3lgbx4jn45gkwql77frnwvpu</td>\n",
              "      <td>Android OS 8.0.0 API 26 (lenovo, Lenovo K8 Note)</td>\n",
              "      <td>66094</td>\n",
              "      <td>IN</td>\n",
              "      <td>42.106.46.255</td>\n",
              "      <td>unknown</td>\n",
              "      <td>Feel so Lucky</td>\n",
              "      <td>T.L.I.D</td>\n",
              "      <td>Feel so Lucky</td>\n",
              "      <td>...</td>\n",
              "      <td>None</td>\n",
              "      <td>None</td>\n",
              "      <td>None</td>\n",
              "      <td>playbtn</td>\n",
              "      <td>trackdone</td>\n",
              "      <td>False</td>\n",
              "      <td>NaN</td>\n",
              "      <td>False</td>\n",
              "      <td>1582514642643</td>\n",
              "      <td>False</td>\n",
              "    </tr>\n",
              "    <tr>\n",
              "      <th>1</th>\n",
              "      <td>2020-02-24T03:27:51Z</td>\n",
              "      <td>31qv3lgbx4jn45gkwql77frnwvpu</td>\n",
              "      <td>Android OS 8.0.0 API 26 (lenovo, Lenovo K8 Note)</td>\n",
              "      <td>160353</td>\n",
              "      <td>IN</td>\n",
              "      <td>42.106.46.255</td>\n",
              "      <td>unknown</td>\n",
              "      <td>Me &amp; You</td>\n",
              "      <td>T.L.I.D</td>\n",
              "      <td>Me &amp; You</td>\n",
              "      <td>...</td>\n",
              "      <td>None</td>\n",
              "      <td>None</td>\n",
              "      <td>None</td>\n",
              "      <td>trackdone</td>\n",
              "      <td>trackdone</td>\n",
              "      <td>False</td>\n",
              "      <td>NaN</td>\n",
              "      <td>False</td>\n",
              "      <td>1582514709146</td>\n",
              "      <td>False</td>\n",
              "    </tr>\n",
              "    <tr>\n",
              "      <th>2</th>\n",
              "      <td>2020-02-24T03:29:52Z</td>\n",
              "      <td>31qv3lgbx4jn45gkwql77frnwvpu</td>\n",
              "      <td>Android OS 8.0.0 API 26 (lenovo, Lenovo K8 Note)</td>\n",
              "      <td>119683</td>\n",
              "      <td>IN</td>\n",
              "      <td>42.106.46.255</td>\n",
              "      <td>unknown</td>\n",
              "      <td>Lost in Space</td>\n",
              "      <td>T.L.I.D</td>\n",
              "      <td>Lost in Space</td>\n",
              "      <td>...</td>\n",
              "      <td>None</td>\n",
              "      <td>None</td>\n",
              "      <td>None</td>\n",
              "      <td>trackdone</td>\n",
              "      <td>endplay</td>\n",
              "      <td>False</td>\n",
              "      <td>NaN</td>\n",
              "      <td>False</td>\n",
              "      <td>1582514869980</td>\n",
              "      <td>False</td>\n",
              "    </tr>\n",
              "    <tr>\n",
              "      <th>3</th>\n",
              "      <td>2020-02-24T03:30:07Z</td>\n",
              "      <td>31qv3lgbx4jn45gkwql77frnwvpu</td>\n",
              "      <td>Android OS 8.0.0 API 26 (lenovo, Lenovo K8 Note)</td>\n",
              "      <td>13409</td>\n",
              "      <td>IN</td>\n",
              "      <td>42.106.46.255</td>\n",
              "      <td>unknown</td>\n",
              "      <td>Just The Way You Are</td>\n",
              "      <td>Bruno Mars</td>\n",
              "      <td>Red Hot R &amp; B</td>\n",
              "      <td>...</td>\n",
              "      <td>None</td>\n",
              "      <td>None</td>\n",
              "      <td>None</td>\n",
              "      <td>clickrow</td>\n",
              "      <td>endplay</td>\n",
              "      <td>False</td>\n",
              "      <td>NaN</td>\n",
              "      <td>False</td>\n",
              "      <td>1582514991316</td>\n",
              "      <td>False</td>\n",
              "    </tr>\n",
              "    <tr>\n",
              "      <th>4</th>\n",
              "      <td>2020-02-24T03:30:59Z</td>\n",
              "      <td>31qv3lgbx4jn45gkwql77frnwvpu</td>\n",
              "      <td>Android OS 8.0.0 API 26 (lenovo, Lenovo K8 Note)</td>\n",
              "      <td>43399</td>\n",
              "      <td>IN</td>\n",
              "      <td>42.106.46.255</td>\n",
              "      <td>unknown</td>\n",
              "      <td>HIGHEST IN THE ROOM</td>\n",
              "      <td>Travis Scott</td>\n",
              "      <td>HIGHEST IN THE ROOM</td>\n",
              "      <td>...</td>\n",
              "      <td>None</td>\n",
              "      <td>None</td>\n",
              "      <td>None</td>\n",
              "      <td>clickrow</td>\n",
              "      <td>trackdone</td>\n",
              "      <td>False</td>\n",
              "      <td>NaN</td>\n",
              "      <td>False</td>\n",
              "      <td>1582515005793</td>\n",
              "      <td>False</td>\n",
              "    </tr>\n",
              "  </tbody>\n",
              "</table>\n",
              "<p>5 rows × 21 columns</p>\n",
              "</div>\n",
              "      <button class=\"colab-df-convert\" onclick=\"convertToInteractive('df-9d457f6f-24e3-444e-af91-0c688926ec93')\"\n",
              "              title=\"Convert this dataframe to an interactive table.\"\n",
              "              style=\"display:none;\">\n",
              "        \n",
              "  <svg xmlns=\"http://www.w3.org/2000/svg\" height=\"24px\"viewBox=\"0 0 24 24\"\n",
              "       width=\"24px\">\n",
              "    <path d=\"M0 0h24v24H0V0z\" fill=\"none\"/>\n",
              "    <path d=\"M18.56 5.44l.94 2.06.94-2.06 2.06-.94-2.06-.94-.94-2.06-.94 2.06-2.06.94zm-11 1L8.5 8.5l.94-2.06 2.06-.94-2.06-.94L8.5 2.5l-.94 2.06-2.06.94zm10 10l.94 2.06.94-2.06 2.06-.94-2.06-.94-.94-2.06-.94 2.06-2.06.94z\"/><path d=\"M17.41 7.96l-1.37-1.37c-.4-.4-.92-.59-1.43-.59-.52 0-1.04.2-1.43.59L10.3 9.45l-7.72 7.72c-.78.78-.78 2.05 0 2.83L4 21.41c.39.39.9.59 1.41.59.51 0 1.02-.2 1.41-.59l7.78-7.78 2.81-2.81c.8-.78.8-2.07 0-2.86zM5.41 20L4 18.59l7.72-7.72 1.47 1.35L5.41 20z\"/>\n",
              "  </svg>\n",
              "      </button>\n",
              "      \n",
              "  <style>\n",
              "    .colab-df-container {\n",
              "      display:flex;\n",
              "      flex-wrap:wrap;\n",
              "      gap: 12px;\n",
              "    }\n",
              "\n",
              "    .colab-df-convert {\n",
              "      background-color: #E8F0FE;\n",
              "      border: none;\n",
              "      border-radius: 50%;\n",
              "      cursor: pointer;\n",
              "      display: none;\n",
              "      fill: #1967D2;\n",
              "      height: 32px;\n",
              "      padding: 0 0 0 0;\n",
              "      width: 32px;\n",
              "    }\n",
              "\n",
              "    .colab-df-convert:hover {\n",
              "      background-color: #E2EBFA;\n",
              "      box-shadow: 0px 1px 2px rgba(60, 64, 67, 0.3), 0px 1px 3px 1px rgba(60, 64, 67, 0.15);\n",
              "      fill: #174EA6;\n",
              "    }\n",
              "\n",
              "    [theme=dark] .colab-df-convert {\n",
              "      background-color: #3B4455;\n",
              "      fill: #D2E3FC;\n",
              "    }\n",
              "\n",
              "    [theme=dark] .colab-df-convert:hover {\n",
              "      background-color: #434B5C;\n",
              "      box-shadow: 0px 1px 3px 1px rgba(0, 0, 0, 0.15);\n",
              "      filter: drop-shadow(0px 1px 2px rgba(0, 0, 0, 0.3));\n",
              "      fill: #FFFFFF;\n",
              "    }\n",
              "  </style>\n",
              "\n",
              "      <script>\n",
              "        const buttonEl =\n",
              "          document.querySelector('#df-9d457f6f-24e3-444e-af91-0c688926ec93 button.colab-df-convert');\n",
              "        buttonEl.style.display =\n",
              "          google.colab.kernel.accessAllowed ? 'block' : 'none';\n",
              "\n",
              "        async function convertToInteractive(key) {\n",
              "          const element = document.querySelector('#df-9d457f6f-24e3-444e-af91-0c688926ec93');\n",
              "          const dataTable =\n",
              "            await google.colab.kernel.invokeFunction('convertToInteractive',\n",
              "                                                     [key], {});\n",
              "          if (!dataTable) return;\n",
              "\n",
              "          const docLinkHtml = 'Like what you see? Visit the ' +\n",
              "            '<a target=\"_blank\" href=https://colab.research.google.com/notebooks/data_table.ipynb>data table notebook</a>'\n",
              "            + ' to learn more about interactive tables.';\n",
              "          element.innerHTML = '';\n",
              "          dataTable['output_type'] = 'display_data';\n",
              "          await google.colab.output.renderOutput(dataTable, element);\n",
              "          const docLink = document.createElement('div');\n",
              "          docLink.innerHTML = docLinkHtml;\n",
              "          element.appendChild(docLink);\n",
              "        }\n",
              "      </script>\n",
              "    </div>\n",
              "  </div>\n",
              "  "
            ]
          },
          "metadata": {},
          "execution_count": 124
        }
      ]
    },
    {
      "cell_type": "code",
      "source": [
        "df3.head(2)"
      ],
      "metadata": {
        "colab": {
          "base_uri": "https://localhost:8080/",
          "height": 344
        },
        "id": "qINI1qyIZ1yB",
        "outputId": "98ca552b-ec5d-4b03-d81d-dbd1f52fb6e2"
      },
      "execution_count": 125,
      "outputs": [
        {
          "output_type": "execute_result",
          "data": {
            "text/plain": [
              "                     ts                      username  \\\n",
              "0  2022-05-02T21:41:45Z  31qv3lgbx4jn45gkwql77frnwvpu   \n",
              "1  2022-05-02T21:42:00Z  31qv3lgbx4jn45gkwql77frnwvpu   \n",
              "\n",
              "                                        platform  ms_played conn_country  \\\n",
              "0  Android-tablet OS 12 API 31 (realme, RMX3312)      27315           IN   \n",
              "1  Android-tablet OS 12 API 31 (realme, RMX3312)      14966           IN   \n",
              "\n",
              "  ip_addr_decrypted user_agent_decrypted master_metadata_track_name  \\\n",
              "0     42.105.164.69              unknown        Oh Nanana Challenge   \n",
              "1     42.105.164.69              unknown          Beauty And A Beat   \n",
              "\n",
              "  master_metadata_album_artist_name master_metadata_album_album_name  ...  \\\n",
              "0                        Bonde R300              Oh Nanana Challenge  ...   \n",
              "1                     Justin Bieber                          Believe  ...   \n",
              "\n",
              "  episode_name episode_show_name spotify_episode_uri reason_start reason_end  \\\n",
              "0         None              None                None       fwdbtn     fwdbtn   \n",
              "1         None              None                None       fwdbtn     fwdbtn   \n",
              "\n",
              "  shuffle  skipped  offline  offline_timestamp  incognito_mode  \n",
              "0   False      NaN    False      1651527676607           False  \n",
              "1   False      NaN    False      1651527704235           False  \n",
              "\n",
              "[2 rows x 21 columns]"
            ],
            "text/html": [
              "\n",
              "  <div id=\"df-1c431bea-2b2b-4109-9262-a5d4e2b3ce9d\">\n",
              "    <div class=\"colab-df-container\">\n",
              "      <div>\n",
              "<style scoped>\n",
              "    .dataframe tbody tr th:only-of-type {\n",
              "        vertical-align: middle;\n",
              "    }\n",
              "\n",
              "    .dataframe tbody tr th {\n",
              "        vertical-align: top;\n",
              "    }\n",
              "\n",
              "    .dataframe thead th {\n",
              "        text-align: right;\n",
              "    }\n",
              "</style>\n",
              "<table border=\"1\" class=\"dataframe\">\n",
              "  <thead>\n",
              "    <tr style=\"text-align: right;\">\n",
              "      <th></th>\n",
              "      <th>ts</th>\n",
              "      <th>username</th>\n",
              "      <th>platform</th>\n",
              "      <th>ms_played</th>\n",
              "      <th>conn_country</th>\n",
              "      <th>ip_addr_decrypted</th>\n",
              "      <th>user_agent_decrypted</th>\n",
              "      <th>master_metadata_track_name</th>\n",
              "      <th>master_metadata_album_artist_name</th>\n",
              "      <th>master_metadata_album_album_name</th>\n",
              "      <th>...</th>\n",
              "      <th>episode_name</th>\n",
              "      <th>episode_show_name</th>\n",
              "      <th>spotify_episode_uri</th>\n",
              "      <th>reason_start</th>\n",
              "      <th>reason_end</th>\n",
              "      <th>shuffle</th>\n",
              "      <th>skipped</th>\n",
              "      <th>offline</th>\n",
              "      <th>offline_timestamp</th>\n",
              "      <th>incognito_mode</th>\n",
              "    </tr>\n",
              "  </thead>\n",
              "  <tbody>\n",
              "    <tr>\n",
              "      <th>0</th>\n",
              "      <td>2022-05-02T21:41:45Z</td>\n",
              "      <td>31qv3lgbx4jn45gkwql77frnwvpu</td>\n",
              "      <td>Android-tablet OS 12 API 31 (realme, RMX3312)</td>\n",
              "      <td>27315</td>\n",
              "      <td>IN</td>\n",
              "      <td>42.105.164.69</td>\n",
              "      <td>unknown</td>\n",
              "      <td>Oh Nanana Challenge</td>\n",
              "      <td>Bonde R300</td>\n",
              "      <td>Oh Nanana Challenge</td>\n",
              "      <td>...</td>\n",
              "      <td>None</td>\n",
              "      <td>None</td>\n",
              "      <td>None</td>\n",
              "      <td>fwdbtn</td>\n",
              "      <td>fwdbtn</td>\n",
              "      <td>False</td>\n",
              "      <td>NaN</td>\n",
              "      <td>False</td>\n",
              "      <td>1651527676607</td>\n",
              "      <td>False</td>\n",
              "    </tr>\n",
              "    <tr>\n",
              "      <th>1</th>\n",
              "      <td>2022-05-02T21:42:00Z</td>\n",
              "      <td>31qv3lgbx4jn45gkwql77frnwvpu</td>\n",
              "      <td>Android-tablet OS 12 API 31 (realme, RMX3312)</td>\n",
              "      <td>14966</td>\n",
              "      <td>IN</td>\n",
              "      <td>42.105.164.69</td>\n",
              "      <td>unknown</td>\n",
              "      <td>Beauty And A Beat</td>\n",
              "      <td>Justin Bieber</td>\n",
              "      <td>Believe</td>\n",
              "      <td>...</td>\n",
              "      <td>None</td>\n",
              "      <td>None</td>\n",
              "      <td>None</td>\n",
              "      <td>fwdbtn</td>\n",
              "      <td>fwdbtn</td>\n",
              "      <td>False</td>\n",
              "      <td>NaN</td>\n",
              "      <td>False</td>\n",
              "      <td>1651527704235</td>\n",
              "      <td>False</td>\n",
              "    </tr>\n",
              "  </tbody>\n",
              "</table>\n",
              "<p>2 rows × 21 columns</p>\n",
              "</div>\n",
              "      <button class=\"colab-df-convert\" onclick=\"convertToInteractive('df-1c431bea-2b2b-4109-9262-a5d4e2b3ce9d')\"\n",
              "              title=\"Convert this dataframe to an interactive table.\"\n",
              "              style=\"display:none;\">\n",
              "        \n",
              "  <svg xmlns=\"http://www.w3.org/2000/svg\" height=\"24px\"viewBox=\"0 0 24 24\"\n",
              "       width=\"24px\">\n",
              "    <path d=\"M0 0h24v24H0V0z\" fill=\"none\"/>\n",
              "    <path d=\"M18.56 5.44l.94 2.06.94-2.06 2.06-.94-2.06-.94-.94-2.06-.94 2.06-2.06.94zm-11 1L8.5 8.5l.94-2.06 2.06-.94-2.06-.94L8.5 2.5l-.94 2.06-2.06.94zm10 10l.94 2.06.94-2.06 2.06-.94-2.06-.94-.94-2.06-.94 2.06-2.06.94z\"/><path d=\"M17.41 7.96l-1.37-1.37c-.4-.4-.92-.59-1.43-.59-.52 0-1.04.2-1.43.59L10.3 9.45l-7.72 7.72c-.78.78-.78 2.05 0 2.83L4 21.41c.39.39.9.59 1.41.59.51 0 1.02-.2 1.41-.59l7.78-7.78 2.81-2.81c.8-.78.8-2.07 0-2.86zM5.41 20L4 18.59l7.72-7.72 1.47 1.35L5.41 20z\"/>\n",
              "  </svg>\n",
              "      </button>\n",
              "      \n",
              "  <style>\n",
              "    .colab-df-container {\n",
              "      display:flex;\n",
              "      flex-wrap:wrap;\n",
              "      gap: 12px;\n",
              "    }\n",
              "\n",
              "    .colab-df-convert {\n",
              "      background-color: #E8F0FE;\n",
              "      border: none;\n",
              "      border-radius: 50%;\n",
              "      cursor: pointer;\n",
              "      display: none;\n",
              "      fill: #1967D2;\n",
              "      height: 32px;\n",
              "      padding: 0 0 0 0;\n",
              "      width: 32px;\n",
              "    }\n",
              "\n",
              "    .colab-df-convert:hover {\n",
              "      background-color: #E2EBFA;\n",
              "      box-shadow: 0px 1px 2px rgba(60, 64, 67, 0.3), 0px 1px 3px 1px rgba(60, 64, 67, 0.15);\n",
              "      fill: #174EA6;\n",
              "    }\n",
              "\n",
              "    [theme=dark] .colab-df-convert {\n",
              "      background-color: #3B4455;\n",
              "      fill: #D2E3FC;\n",
              "    }\n",
              "\n",
              "    [theme=dark] .colab-df-convert:hover {\n",
              "      background-color: #434B5C;\n",
              "      box-shadow: 0px 1px 3px 1px rgba(0, 0, 0, 0.15);\n",
              "      filter: drop-shadow(0px 1px 2px rgba(0, 0, 0, 0.3));\n",
              "      fill: #FFFFFF;\n",
              "    }\n",
              "  </style>\n",
              "\n",
              "      <script>\n",
              "        const buttonEl =\n",
              "          document.querySelector('#df-1c431bea-2b2b-4109-9262-a5d4e2b3ce9d button.colab-df-convert');\n",
              "        buttonEl.style.display =\n",
              "          google.colab.kernel.accessAllowed ? 'block' : 'none';\n",
              "\n",
              "        async function convertToInteractive(key) {\n",
              "          const element = document.querySelector('#df-1c431bea-2b2b-4109-9262-a5d4e2b3ce9d');\n",
              "          const dataTable =\n",
              "            await google.colab.kernel.invokeFunction('convertToInteractive',\n",
              "                                                     [key], {});\n",
              "          if (!dataTable) return;\n",
              "\n",
              "          const docLinkHtml = 'Like what you see? Visit the ' +\n",
              "            '<a target=\"_blank\" href=https://colab.research.google.com/notebooks/data_table.ipynb>data table notebook</a>'\n",
              "            + ' to learn more about interactive tables.';\n",
              "          element.innerHTML = '';\n",
              "          dataTable['output_type'] = 'display_data';\n",
              "          await google.colab.output.renderOutput(dataTable, element);\n",
              "          const docLink = document.createElement('div');\n",
              "          docLink.innerHTML = docLinkHtml;\n",
              "          element.appendChild(docLink);\n",
              "        }\n",
              "      </script>\n",
              "    </div>\n",
              "  </div>\n",
              "  "
            ]
          },
          "metadata": {},
          "execution_count": 125
        }
      ]
    },
    {
      "cell_type": "markdown",
      "source": [
        "## Merging all four data sets"
      ],
      "metadata": {
        "id": "IoqvBrpLaA0Y"
      }
    },
    {
      "cell_type": "code",
      "source": [
        "project_df = pd.concat([df1,df2,df3,df4],ignore_index=True)"
      ],
      "metadata": {
        "colab": {
          "base_uri": "https://localhost:8080/"
        },
        "id": "4o9ac5HWZ8iA",
        "outputId": "59ae4dd4-ac0e-4022-dfbd-e46290512ffd"
      },
      "execution_count": 126,
      "outputs": [
        {
          "output_type": "stream",
          "name": "stderr",
          "text": [
            "<ipython-input-126-801e04f3e5cf>:1: FutureWarning: Behavior when concatenating bool-dtype and numeric-dtype arrays is deprecated; in a future version these will cast to object dtype (instead of coercing bools to numeric values). To retain the old behavior, explicitly cast bool-dtype arrays to numeric dtype.\n",
            "  project_df = pd.concat([df1,df2,df3,df4],ignore_index=True)\n"
          ]
        }
      ]
    },
    {
      "cell_type": "markdown",
      "source": [
        "We make a data of name project_df lets analyze and clean the data"
      ],
      "metadata": {
        "id": "UQRHPGSLaRNs"
      }
    },
    {
      "cell_type": "code",
      "source": [
        "project_df"
      ],
      "metadata": {
        "colab": {
          "base_uri": "https://localhost:8080/",
          "height": 1000
        },
        "id": "7yGyh1ykaOeI",
        "outputId": "65af40e3-27cd-4568-e6b9-edcaa3c4996d"
      },
      "execution_count": 127,
      "outputs": [
        {
          "output_type": "execute_result",
          "data": {
            "text/plain": [
              "                         ts                      username  \\\n",
              "0      2020-02-24T03:25:10Z  31qv3lgbx4jn45gkwql77frnwvpu   \n",
              "1      2020-02-24T03:27:51Z  31qv3lgbx4jn45gkwql77frnwvpu   \n",
              "2      2020-02-24T03:29:52Z  31qv3lgbx4jn45gkwql77frnwvpu   \n",
              "3      2020-02-24T03:30:07Z  31qv3lgbx4jn45gkwql77frnwvpu   \n",
              "4      2020-02-24T03:30:59Z  31qv3lgbx4jn45gkwql77frnwvpu   \n",
              "...                     ...                           ...   \n",
              "41384  2021-12-15T06:22:17Z  31qv3lgbx4jn45gkwql77frnwvpu   \n",
              "41385  2021-12-17T03:45:41Z  31qv3lgbx4jn45gkwql77frnwvpu   \n",
              "41386  2021-12-23T08:56:08Z  31qv3lgbx4jn45gkwql77frnwvpu   \n",
              "41387  2021-12-28T02:33:46Z  31qv3lgbx4jn45gkwql77frnwvpu   \n",
              "41388  2021-12-28T02:33:47Z  31qv3lgbx4jn45gkwql77frnwvpu   \n",
              "\n",
              "                                               platform  ms_played  \\\n",
              "0      Android OS 8.0.0 API 26 (lenovo, Lenovo K8 Note)      66094   \n",
              "1      Android OS 8.0.0 API 26 (lenovo, Lenovo K8 Note)     160353   \n",
              "2      Android OS 8.0.0 API 26 (lenovo, Lenovo K8 Note)     119683   \n",
              "3      Android OS 8.0.0 API 26 (lenovo, Lenovo K8 Note)      13409   \n",
              "4      Android OS 8.0.0 API 26 (lenovo, Lenovo K8 Note)      43399   \n",
              "...                                                 ...        ...   \n",
              "41384     Android-tablet OS 11 API 30 (realme, RMX2002)       5967   \n",
              "41385     Android-tablet OS 11 API 30 (realme, RMX2002)       5963   \n",
              "41386     Android-tablet OS 11 API 30 (realme, RMX2002)      14089   \n",
              "41387     Android-tablet OS 11 API 30 (realme, RMX2002)       7404   \n",
              "41388     Android-tablet OS 11 API 30 (realme, RMX2002)       7404   \n",
              "\n",
              "      conn_country ip_addr_decrypted user_agent_decrypted  \\\n",
              "0               IN     42.106.46.255              unknown   \n",
              "1               IN     42.106.46.255              unknown   \n",
              "2               IN     42.106.46.255              unknown   \n",
              "3               IN     42.106.46.255              unknown   \n",
              "4               IN     42.106.46.255              unknown   \n",
              "...            ...               ...                  ...   \n",
              "41384           IN     42.105.167.50              unknown   \n",
              "41385           IN     42.105.172.79              unknown   \n",
              "41386           IN    42.105.173.192              unknown   \n",
              "41387           IN     42.105.168.99              unknown   \n",
              "41388           IN     42.105.168.99              unknown   \n",
              "\n",
              "      master_metadata_track_name master_metadata_album_artist_name  \\\n",
              "0                  Feel so Lucky                           T.L.I.D   \n",
              "1                       Me & You                           T.L.I.D   \n",
              "2                  Lost in Space                           T.L.I.D   \n",
              "3           Just The Way You Are                        Bruno Mars   \n",
              "4            HIGHEST IN THE ROOM                      Travis Scott   \n",
              "...                          ...                               ...   \n",
              "41384                        NaN                               NaN   \n",
              "41385                        NaN                               NaN   \n",
              "41386                        NaN                               NaN   \n",
              "41387                        NaN                               NaN   \n",
              "41388                        NaN                               NaN   \n",
              "\n",
              "      master_metadata_album_album_name  ...    episode_name episode_show_name  \\\n",
              "0                        Feel so Lucky  ...            None              None   \n",
              "1                             Me & You  ...            None              None   \n",
              "2                        Lost in Space  ...            None              None   \n",
              "3                        Red Hot R & B  ...            None              None   \n",
              "4                  HIGHEST IN THE ROOM  ...            None              None   \n",
              "...                                ...  ...             ...               ...   \n",
              "41384                              NaN  ...        Coldplay      2021 Wrapped   \n",
              "41385                              NaN  ...        Coldplay      2021 Wrapped   \n",
              "41386                              NaN  ...  Shreya Ghoshal      2021 Wrapped   \n",
              "41387                              NaN  ...        Dua Lipa      2021 Wrapped   \n",
              "41388                              NaN  ...        Dua Lipa      2021 Wrapped   \n",
              "\n",
              "                          spotify_episode_uri reason_start reason_end shuffle  \\\n",
              "0                                        None      playbtn  trackdone   False   \n",
              "1                                        None    trackdone  trackdone   False   \n",
              "2                                        None    trackdone    endplay   False   \n",
              "3                                        None     clickrow    endplay   False   \n",
              "4                                        None     clickrow  trackdone   False   \n",
              "...                                       ...          ...        ...     ...   \n",
              "41384  spotify:episode:2TLr4MOu98oOV0amb3rbcD       fwdbtn  trackdone   False   \n",
              "41385  spotify:episode:2TLr4MOu98oOV0amb3rbcD       fwdbtn  trackdone   False   \n",
              "41386  spotify:episode:0BdibLTrMUhl8tqEuYq7fb       fwdbtn  trackdone   False   \n",
              "41387  spotify:episode:5In9wJ7E5acQOYziK06lnh       fwdbtn  trackdone   False   \n",
              "41388  spotify:episode:5In9wJ7E5acQOYziK06lnh       fwdbtn  trackdone   False   \n",
              "\n",
              "       skipped  offline  offline_timestamp  incognito_mode  \n",
              "0          NaN      0.0       1.582515e+12           False  \n",
              "1          NaN      0.0       1.582515e+12           False  \n",
              "2          NaN      0.0       1.582515e+12           False  \n",
              "3          NaN      0.0       1.582515e+12           False  \n",
              "4          NaN      0.0       1.582515e+12           False  \n",
              "...        ...      ...                ...             ...  \n",
              "41384      NaN      NaN                NaN           False  \n",
              "41385      NaN      NaN                NaN           False  \n",
              "41386      NaN      NaN                NaN           False  \n",
              "41387      NaN      NaN                NaN           False  \n",
              "41388      NaN      NaN                NaN           False  \n",
              "\n",
              "[41389 rows x 21 columns]"
            ],
            "text/html": [
              "\n",
              "  <div id=\"df-f1a56242-426d-4665-a5ec-934584b6c64a\">\n",
              "    <div class=\"colab-df-container\">\n",
              "      <div>\n",
              "<style scoped>\n",
              "    .dataframe tbody tr th:only-of-type {\n",
              "        vertical-align: middle;\n",
              "    }\n",
              "\n",
              "    .dataframe tbody tr th {\n",
              "        vertical-align: top;\n",
              "    }\n",
              "\n",
              "    .dataframe thead th {\n",
              "        text-align: right;\n",
              "    }\n",
              "</style>\n",
              "<table border=\"1\" class=\"dataframe\">\n",
              "  <thead>\n",
              "    <tr style=\"text-align: right;\">\n",
              "      <th></th>\n",
              "      <th>ts</th>\n",
              "      <th>username</th>\n",
              "      <th>platform</th>\n",
              "      <th>ms_played</th>\n",
              "      <th>conn_country</th>\n",
              "      <th>ip_addr_decrypted</th>\n",
              "      <th>user_agent_decrypted</th>\n",
              "      <th>master_metadata_track_name</th>\n",
              "      <th>master_metadata_album_artist_name</th>\n",
              "      <th>master_metadata_album_album_name</th>\n",
              "      <th>...</th>\n",
              "      <th>episode_name</th>\n",
              "      <th>episode_show_name</th>\n",
              "      <th>spotify_episode_uri</th>\n",
              "      <th>reason_start</th>\n",
              "      <th>reason_end</th>\n",
              "      <th>shuffle</th>\n",
              "      <th>skipped</th>\n",
              "      <th>offline</th>\n",
              "      <th>offline_timestamp</th>\n",
              "      <th>incognito_mode</th>\n",
              "    </tr>\n",
              "  </thead>\n",
              "  <tbody>\n",
              "    <tr>\n",
              "      <th>0</th>\n",
              "      <td>2020-02-24T03:25:10Z</td>\n",
              "      <td>31qv3lgbx4jn45gkwql77frnwvpu</td>\n",
              "      <td>Android OS 8.0.0 API 26 (lenovo, Lenovo K8 Note)</td>\n",
              "      <td>66094</td>\n",
              "      <td>IN</td>\n",
              "      <td>42.106.46.255</td>\n",
              "      <td>unknown</td>\n",
              "      <td>Feel so Lucky</td>\n",
              "      <td>T.L.I.D</td>\n",
              "      <td>Feel so Lucky</td>\n",
              "      <td>...</td>\n",
              "      <td>None</td>\n",
              "      <td>None</td>\n",
              "      <td>None</td>\n",
              "      <td>playbtn</td>\n",
              "      <td>trackdone</td>\n",
              "      <td>False</td>\n",
              "      <td>NaN</td>\n",
              "      <td>0.0</td>\n",
              "      <td>1.582515e+12</td>\n",
              "      <td>False</td>\n",
              "    </tr>\n",
              "    <tr>\n",
              "      <th>1</th>\n",
              "      <td>2020-02-24T03:27:51Z</td>\n",
              "      <td>31qv3lgbx4jn45gkwql77frnwvpu</td>\n",
              "      <td>Android OS 8.0.0 API 26 (lenovo, Lenovo K8 Note)</td>\n",
              "      <td>160353</td>\n",
              "      <td>IN</td>\n",
              "      <td>42.106.46.255</td>\n",
              "      <td>unknown</td>\n",
              "      <td>Me &amp; You</td>\n",
              "      <td>T.L.I.D</td>\n",
              "      <td>Me &amp; You</td>\n",
              "      <td>...</td>\n",
              "      <td>None</td>\n",
              "      <td>None</td>\n",
              "      <td>None</td>\n",
              "      <td>trackdone</td>\n",
              "      <td>trackdone</td>\n",
              "      <td>False</td>\n",
              "      <td>NaN</td>\n",
              "      <td>0.0</td>\n",
              "      <td>1.582515e+12</td>\n",
              "      <td>False</td>\n",
              "    </tr>\n",
              "    <tr>\n",
              "      <th>2</th>\n",
              "      <td>2020-02-24T03:29:52Z</td>\n",
              "      <td>31qv3lgbx4jn45gkwql77frnwvpu</td>\n",
              "      <td>Android OS 8.0.0 API 26 (lenovo, Lenovo K8 Note)</td>\n",
              "      <td>119683</td>\n",
              "      <td>IN</td>\n",
              "      <td>42.106.46.255</td>\n",
              "      <td>unknown</td>\n",
              "      <td>Lost in Space</td>\n",
              "      <td>T.L.I.D</td>\n",
              "      <td>Lost in Space</td>\n",
              "      <td>...</td>\n",
              "      <td>None</td>\n",
              "      <td>None</td>\n",
              "      <td>None</td>\n",
              "      <td>trackdone</td>\n",
              "      <td>endplay</td>\n",
              "      <td>False</td>\n",
              "      <td>NaN</td>\n",
              "      <td>0.0</td>\n",
              "      <td>1.582515e+12</td>\n",
              "      <td>False</td>\n",
              "    </tr>\n",
              "    <tr>\n",
              "      <th>3</th>\n",
              "      <td>2020-02-24T03:30:07Z</td>\n",
              "      <td>31qv3lgbx4jn45gkwql77frnwvpu</td>\n",
              "      <td>Android OS 8.0.0 API 26 (lenovo, Lenovo K8 Note)</td>\n",
              "      <td>13409</td>\n",
              "      <td>IN</td>\n",
              "      <td>42.106.46.255</td>\n",
              "      <td>unknown</td>\n",
              "      <td>Just The Way You Are</td>\n",
              "      <td>Bruno Mars</td>\n",
              "      <td>Red Hot R &amp; B</td>\n",
              "      <td>...</td>\n",
              "      <td>None</td>\n",
              "      <td>None</td>\n",
              "      <td>None</td>\n",
              "      <td>clickrow</td>\n",
              "      <td>endplay</td>\n",
              "      <td>False</td>\n",
              "      <td>NaN</td>\n",
              "      <td>0.0</td>\n",
              "      <td>1.582515e+12</td>\n",
              "      <td>False</td>\n",
              "    </tr>\n",
              "    <tr>\n",
              "      <th>4</th>\n",
              "      <td>2020-02-24T03:30:59Z</td>\n",
              "      <td>31qv3lgbx4jn45gkwql77frnwvpu</td>\n",
              "      <td>Android OS 8.0.0 API 26 (lenovo, Lenovo K8 Note)</td>\n",
              "      <td>43399</td>\n",
              "      <td>IN</td>\n",
              "      <td>42.106.46.255</td>\n",
              "      <td>unknown</td>\n",
              "      <td>HIGHEST IN THE ROOM</td>\n",
              "      <td>Travis Scott</td>\n",
              "      <td>HIGHEST IN THE ROOM</td>\n",
              "      <td>...</td>\n",
              "      <td>None</td>\n",
              "      <td>None</td>\n",
              "      <td>None</td>\n",
              "      <td>clickrow</td>\n",
              "      <td>trackdone</td>\n",
              "      <td>False</td>\n",
              "      <td>NaN</td>\n",
              "      <td>0.0</td>\n",
              "      <td>1.582515e+12</td>\n",
              "      <td>False</td>\n",
              "    </tr>\n",
              "    <tr>\n",
              "      <th>...</th>\n",
              "      <td>...</td>\n",
              "      <td>...</td>\n",
              "      <td>...</td>\n",
              "      <td>...</td>\n",
              "      <td>...</td>\n",
              "      <td>...</td>\n",
              "      <td>...</td>\n",
              "      <td>...</td>\n",
              "      <td>...</td>\n",
              "      <td>...</td>\n",
              "      <td>...</td>\n",
              "      <td>...</td>\n",
              "      <td>...</td>\n",
              "      <td>...</td>\n",
              "      <td>...</td>\n",
              "      <td>...</td>\n",
              "      <td>...</td>\n",
              "      <td>...</td>\n",
              "      <td>...</td>\n",
              "      <td>...</td>\n",
              "      <td>...</td>\n",
              "    </tr>\n",
              "    <tr>\n",
              "      <th>41384</th>\n",
              "      <td>2021-12-15T06:22:17Z</td>\n",
              "      <td>31qv3lgbx4jn45gkwql77frnwvpu</td>\n",
              "      <td>Android-tablet OS 11 API 30 (realme, RMX2002)</td>\n",
              "      <td>5967</td>\n",
              "      <td>IN</td>\n",
              "      <td>42.105.167.50</td>\n",
              "      <td>unknown</td>\n",
              "      <td>NaN</td>\n",
              "      <td>NaN</td>\n",
              "      <td>NaN</td>\n",
              "      <td>...</td>\n",
              "      <td>Coldplay</td>\n",
              "      <td>2021 Wrapped</td>\n",
              "      <td>spotify:episode:2TLr4MOu98oOV0amb3rbcD</td>\n",
              "      <td>fwdbtn</td>\n",
              "      <td>trackdone</td>\n",
              "      <td>False</td>\n",
              "      <td>NaN</td>\n",
              "      <td>NaN</td>\n",
              "      <td>NaN</td>\n",
              "      <td>False</td>\n",
              "    </tr>\n",
              "    <tr>\n",
              "      <th>41385</th>\n",
              "      <td>2021-12-17T03:45:41Z</td>\n",
              "      <td>31qv3lgbx4jn45gkwql77frnwvpu</td>\n",
              "      <td>Android-tablet OS 11 API 30 (realme, RMX2002)</td>\n",
              "      <td>5963</td>\n",
              "      <td>IN</td>\n",
              "      <td>42.105.172.79</td>\n",
              "      <td>unknown</td>\n",
              "      <td>NaN</td>\n",
              "      <td>NaN</td>\n",
              "      <td>NaN</td>\n",
              "      <td>...</td>\n",
              "      <td>Coldplay</td>\n",
              "      <td>2021 Wrapped</td>\n",
              "      <td>spotify:episode:2TLr4MOu98oOV0amb3rbcD</td>\n",
              "      <td>fwdbtn</td>\n",
              "      <td>trackdone</td>\n",
              "      <td>False</td>\n",
              "      <td>NaN</td>\n",
              "      <td>NaN</td>\n",
              "      <td>NaN</td>\n",
              "      <td>False</td>\n",
              "    </tr>\n",
              "    <tr>\n",
              "      <th>41386</th>\n",
              "      <td>2021-12-23T08:56:08Z</td>\n",
              "      <td>31qv3lgbx4jn45gkwql77frnwvpu</td>\n",
              "      <td>Android-tablet OS 11 API 30 (realme, RMX2002)</td>\n",
              "      <td>14089</td>\n",
              "      <td>IN</td>\n",
              "      <td>42.105.173.192</td>\n",
              "      <td>unknown</td>\n",
              "      <td>NaN</td>\n",
              "      <td>NaN</td>\n",
              "      <td>NaN</td>\n",
              "      <td>...</td>\n",
              "      <td>Shreya Ghoshal</td>\n",
              "      <td>2021 Wrapped</td>\n",
              "      <td>spotify:episode:0BdibLTrMUhl8tqEuYq7fb</td>\n",
              "      <td>fwdbtn</td>\n",
              "      <td>trackdone</td>\n",
              "      <td>False</td>\n",
              "      <td>NaN</td>\n",
              "      <td>NaN</td>\n",
              "      <td>NaN</td>\n",
              "      <td>False</td>\n",
              "    </tr>\n",
              "    <tr>\n",
              "      <th>41387</th>\n",
              "      <td>2021-12-28T02:33:46Z</td>\n",
              "      <td>31qv3lgbx4jn45gkwql77frnwvpu</td>\n",
              "      <td>Android-tablet OS 11 API 30 (realme, RMX2002)</td>\n",
              "      <td>7404</td>\n",
              "      <td>IN</td>\n",
              "      <td>42.105.168.99</td>\n",
              "      <td>unknown</td>\n",
              "      <td>NaN</td>\n",
              "      <td>NaN</td>\n",
              "      <td>NaN</td>\n",
              "      <td>...</td>\n",
              "      <td>Dua Lipa</td>\n",
              "      <td>2021 Wrapped</td>\n",
              "      <td>spotify:episode:5In9wJ7E5acQOYziK06lnh</td>\n",
              "      <td>fwdbtn</td>\n",
              "      <td>trackdone</td>\n",
              "      <td>False</td>\n",
              "      <td>NaN</td>\n",
              "      <td>NaN</td>\n",
              "      <td>NaN</td>\n",
              "      <td>False</td>\n",
              "    </tr>\n",
              "    <tr>\n",
              "      <th>41388</th>\n",
              "      <td>2021-12-28T02:33:47Z</td>\n",
              "      <td>31qv3lgbx4jn45gkwql77frnwvpu</td>\n",
              "      <td>Android-tablet OS 11 API 30 (realme, RMX2002)</td>\n",
              "      <td>7404</td>\n",
              "      <td>IN</td>\n",
              "      <td>42.105.168.99</td>\n",
              "      <td>unknown</td>\n",
              "      <td>NaN</td>\n",
              "      <td>NaN</td>\n",
              "      <td>NaN</td>\n",
              "      <td>...</td>\n",
              "      <td>Dua Lipa</td>\n",
              "      <td>2021 Wrapped</td>\n",
              "      <td>spotify:episode:5In9wJ7E5acQOYziK06lnh</td>\n",
              "      <td>fwdbtn</td>\n",
              "      <td>trackdone</td>\n",
              "      <td>False</td>\n",
              "      <td>NaN</td>\n",
              "      <td>NaN</td>\n",
              "      <td>NaN</td>\n",
              "      <td>False</td>\n",
              "    </tr>\n",
              "  </tbody>\n",
              "</table>\n",
              "<p>41389 rows × 21 columns</p>\n",
              "</div>\n",
              "      <button class=\"colab-df-convert\" onclick=\"convertToInteractive('df-f1a56242-426d-4665-a5ec-934584b6c64a')\"\n",
              "              title=\"Convert this dataframe to an interactive table.\"\n",
              "              style=\"display:none;\">\n",
              "        \n",
              "  <svg xmlns=\"http://www.w3.org/2000/svg\" height=\"24px\"viewBox=\"0 0 24 24\"\n",
              "       width=\"24px\">\n",
              "    <path d=\"M0 0h24v24H0V0z\" fill=\"none\"/>\n",
              "    <path d=\"M18.56 5.44l.94 2.06.94-2.06 2.06-.94-2.06-.94-.94-2.06-.94 2.06-2.06.94zm-11 1L8.5 8.5l.94-2.06 2.06-.94-2.06-.94L8.5 2.5l-.94 2.06-2.06.94zm10 10l.94 2.06.94-2.06 2.06-.94-2.06-.94-.94-2.06-.94 2.06-2.06.94z\"/><path d=\"M17.41 7.96l-1.37-1.37c-.4-.4-.92-.59-1.43-.59-.52 0-1.04.2-1.43.59L10.3 9.45l-7.72 7.72c-.78.78-.78 2.05 0 2.83L4 21.41c.39.39.9.59 1.41.59.51 0 1.02-.2 1.41-.59l7.78-7.78 2.81-2.81c.8-.78.8-2.07 0-2.86zM5.41 20L4 18.59l7.72-7.72 1.47 1.35L5.41 20z\"/>\n",
              "  </svg>\n",
              "      </button>\n",
              "      \n",
              "  <style>\n",
              "    .colab-df-container {\n",
              "      display:flex;\n",
              "      flex-wrap:wrap;\n",
              "      gap: 12px;\n",
              "    }\n",
              "\n",
              "    .colab-df-convert {\n",
              "      background-color: #E8F0FE;\n",
              "      border: none;\n",
              "      border-radius: 50%;\n",
              "      cursor: pointer;\n",
              "      display: none;\n",
              "      fill: #1967D2;\n",
              "      height: 32px;\n",
              "      padding: 0 0 0 0;\n",
              "      width: 32px;\n",
              "    }\n",
              "\n",
              "    .colab-df-convert:hover {\n",
              "      background-color: #E2EBFA;\n",
              "      box-shadow: 0px 1px 2px rgba(60, 64, 67, 0.3), 0px 1px 3px 1px rgba(60, 64, 67, 0.15);\n",
              "      fill: #174EA6;\n",
              "    }\n",
              "\n",
              "    [theme=dark] .colab-df-convert {\n",
              "      background-color: #3B4455;\n",
              "      fill: #D2E3FC;\n",
              "    }\n",
              "\n",
              "    [theme=dark] .colab-df-convert:hover {\n",
              "      background-color: #434B5C;\n",
              "      box-shadow: 0px 1px 3px 1px rgba(0, 0, 0, 0.15);\n",
              "      filter: drop-shadow(0px 1px 2px rgba(0, 0, 0, 0.3));\n",
              "      fill: #FFFFFF;\n",
              "    }\n",
              "  </style>\n",
              "\n",
              "      <script>\n",
              "        const buttonEl =\n",
              "          document.querySelector('#df-f1a56242-426d-4665-a5ec-934584b6c64a button.colab-df-convert');\n",
              "        buttonEl.style.display =\n",
              "          google.colab.kernel.accessAllowed ? 'block' : 'none';\n",
              "\n",
              "        async function convertToInteractive(key) {\n",
              "          const element = document.querySelector('#df-f1a56242-426d-4665-a5ec-934584b6c64a');\n",
              "          const dataTable =\n",
              "            await google.colab.kernel.invokeFunction('convertToInteractive',\n",
              "                                                     [key], {});\n",
              "          if (!dataTable) return;\n",
              "\n",
              "          const docLinkHtml = 'Like what you see? Visit the ' +\n",
              "            '<a target=\"_blank\" href=https://colab.research.google.com/notebooks/data_table.ipynb>data table notebook</a>'\n",
              "            + ' to learn more about interactive tables.';\n",
              "          element.innerHTML = '';\n",
              "          dataTable['output_type'] = 'display_data';\n",
              "          await google.colab.output.renderOutput(dataTable, element);\n",
              "          const docLink = document.createElement('div');\n",
              "          docLink.innerHTML = docLinkHtml;\n",
              "          element.appendChild(docLink);\n",
              "        }\n",
              "      </script>\n",
              "    </div>\n",
              "  </div>\n",
              "  "
            ]
          },
          "metadata": {},
          "execution_count": 127
        }
      ]
    },
    {
      "cell_type": "markdown",
      "source": [
        "there are 21 different fields and 41000+ data"
      ],
      "metadata": {
        "id": "zqpIw1MGamGC"
      }
    },
    {
      "cell_type": "code",
      "source": [
        "project_df.info()"
      ],
      "metadata": {
        "colab": {
          "base_uri": "https://localhost:8080/"
        },
        "id": "IYG0di4CagwT",
        "outputId": "875ace92-8f18-4196-c1ee-a2857accc69d"
      },
      "execution_count": 128,
      "outputs": [
        {
          "output_type": "stream",
          "name": "stdout",
          "text": [
            "<class 'pandas.core.frame.DataFrame'>\n",
            "RangeIndex: 41389 entries, 0 to 41388\n",
            "Data columns (total 21 columns):\n",
            " #   Column                             Non-Null Count  Dtype  \n",
            "---  ------                             --------------  -----  \n",
            " 0   ts                                 41389 non-null  object \n",
            " 1   username                           41389 non-null  object \n",
            " 2   platform                           41389 non-null  object \n",
            " 3   ms_played                          41389 non-null  int64  \n",
            " 4   conn_country                       41389 non-null  object \n",
            " 5   ip_addr_decrypted                  41389 non-null  object \n",
            " 6   user_agent_decrypted               41389 non-null  object \n",
            " 7   master_metadata_track_name         40638 non-null  object \n",
            " 8   master_metadata_album_artist_name  40638 non-null  object \n",
            " 9   master_metadata_album_album_name   40638 non-null  object \n",
            " 10  spotify_track_uri                  40638 non-null  object \n",
            " 11  episode_name                       39 non-null     object \n",
            " 12  episode_show_name                  39 non-null     object \n",
            " 13  spotify_episode_uri                39 non-null     object \n",
            " 14  reason_start                       41389 non-null  object \n",
            " 15  reason_end                         41389 non-null  object \n",
            " 16  shuffle                            41389 non-null  bool   \n",
            " 17  skipped                            6016 non-null   float64\n",
            " 18  offline                            41378 non-null  float64\n",
            " 19  offline_timestamp                  41378 non-null  float64\n",
            " 20  incognito_mode                     41389 non-null  bool   \n",
            "dtypes: bool(2), float64(3), int64(1), object(15)\n",
            "memory usage: 6.1+ MB\n"
          ]
        }
      ]
    },
    {
      "cell_type": "code",
      "source": [
        "project_df.nunique()"
      ],
      "metadata": {
        "colab": {
          "base_uri": "https://localhost:8080/"
        },
        "id": "12vmTUqxayN7",
        "outputId": "3888ded8-119f-4fab-806b-e70f916bfda8"
      },
      "execution_count": 129,
      "outputs": [
        {
          "output_type": "execute_result",
          "data": {
            "text/plain": [
              "ts                                   38675\n",
              "username                                 1\n",
              "platform                                16\n",
              "ms_played                            24683\n",
              "conn_country                             1\n",
              "ip_addr_decrypted                     2282\n",
              "user_agent_decrypted                     1\n",
              "master_metadata_track_name            2584\n",
              "master_metadata_album_artist_name     1062\n",
              "master_metadata_album_album_name      1979\n",
              "spotify_track_uri                     2804\n",
              "episode_name                            27\n",
              "episode_show_name                       14\n",
              "spotify_episode_uri                     27\n",
              "reason_start                             9\n",
              "reason_end                               9\n",
              "shuffle                                  2\n",
              "skipped                                  2\n",
              "offline                                  2\n",
              "offline_timestamp                    41085\n",
              "incognito_mode                           1\n",
              "dtype: int64"
            ]
          },
          "metadata": {},
          "execution_count": 129
        }
      ]
    },
    {
      "cell_type": "markdown",
      "source": [
        "there is only one username\n"
      ],
      "metadata": {
        "id": "yYX8Yw-ndw5i"
      }
    },
    {
      "cell_type": "markdown",
      "source": [
        "## We have 21 columns and some of them are not useful"
      ],
      "metadata": {
        "id": "OVHnHaCYd472"
      }
    },
    {
      "cell_type": "code",
      "source": [
        "spotify_stream_df = project_df[['ts', 'ms_played', 'master_metadata_track_name', 'master_metadata_album_artist_name']]\n",
        "spotify_stream_df.head(5)"
      ],
      "metadata": {
        "colab": {
          "base_uri": "https://localhost:8080/",
          "height": 206
        },
        "id": "1N7DXEfKd_S-",
        "outputId": "fd1713a6-7976-4ca3-e9a3-ace1d03d9659"
      },
      "execution_count": 130,
      "outputs": [
        {
          "output_type": "execute_result",
          "data": {
            "text/plain": [
              "                     ts  ms_played master_metadata_track_name  \\\n",
              "0  2020-02-24T03:25:10Z      66094              Feel so Lucky   \n",
              "1  2020-02-24T03:27:51Z     160353                   Me & You   \n",
              "2  2020-02-24T03:29:52Z     119683              Lost in Space   \n",
              "3  2020-02-24T03:30:07Z      13409       Just The Way You Are   \n",
              "4  2020-02-24T03:30:59Z      43399        HIGHEST IN THE ROOM   \n",
              "\n",
              "  master_metadata_album_artist_name  \n",
              "0                           T.L.I.D  \n",
              "1                           T.L.I.D  \n",
              "2                           T.L.I.D  \n",
              "3                        Bruno Mars  \n",
              "4                      Travis Scott  "
            ],
            "text/html": [
              "\n",
              "  <div id=\"df-2743526e-45c3-4500-bc02-fce2621ab8c7\">\n",
              "    <div class=\"colab-df-container\">\n",
              "      <div>\n",
              "<style scoped>\n",
              "    .dataframe tbody tr th:only-of-type {\n",
              "        vertical-align: middle;\n",
              "    }\n",
              "\n",
              "    .dataframe tbody tr th {\n",
              "        vertical-align: top;\n",
              "    }\n",
              "\n",
              "    .dataframe thead th {\n",
              "        text-align: right;\n",
              "    }\n",
              "</style>\n",
              "<table border=\"1\" class=\"dataframe\">\n",
              "  <thead>\n",
              "    <tr style=\"text-align: right;\">\n",
              "      <th></th>\n",
              "      <th>ts</th>\n",
              "      <th>ms_played</th>\n",
              "      <th>master_metadata_track_name</th>\n",
              "      <th>master_metadata_album_artist_name</th>\n",
              "    </tr>\n",
              "  </thead>\n",
              "  <tbody>\n",
              "    <tr>\n",
              "      <th>0</th>\n",
              "      <td>2020-02-24T03:25:10Z</td>\n",
              "      <td>66094</td>\n",
              "      <td>Feel so Lucky</td>\n",
              "      <td>T.L.I.D</td>\n",
              "    </tr>\n",
              "    <tr>\n",
              "      <th>1</th>\n",
              "      <td>2020-02-24T03:27:51Z</td>\n",
              "      <td>160353</td>\n",
              "      <td>Me &amp; You</td>\n",
              "      <td>T.L.I.D</td>\n",
              "    </tr>\n",
              "    <tr>\n",
              "      <th>2</th>\n",
              "      <td>2020-02-24T03:29:52Z</td>\n",
              "      <td>119683</td>\n",
              "      <td>Lost in Space</td>\n",
              "      <td>T.L.I.D</td>\n",
              "    </tr>\n",
              "    <tr>\n",
              "      <th>3</th>\n",
              "      <td>2020-02-24T03:30:07Z</td>\n",
              "      <td>13409</td>\n",
              "      <td>Just The Way You Are</td>\n",
              "      <td>Bruno Mars</td>\n",
              "    </tr>\n",
              "    <tr>\n",
              "      <th>4</th>\n",
              "      <td>2020-02-24T03:30:59Z</td>\n",
              "      <td>43399</td>\n",
              "      <td>HIGHEST IN THE ROOM</td>\n",
              "      <td>Travis Scott</td>\n",
              "    </tr>\n",
              "  </tbody>\n",
              "</table>\n",
              "</div>\n",
              "      <button class=\"colab-df-convert\" onclick=\"convertToInteractive('df-2743526e-45c3-4500-bc02-fce2621ab8c7')\"\n",
              "              title=\"Convert this dataframe to an interactive table.\"\n",
              "              style=\"display:none;\">\n",
              "        \n",
              "  <svg xmlns=\"http://www.w3.org/2000/svg\" height=\"24px\"viewBox=\"0 0 24 24\"\n",
              "       width=\"24px\">\n",
              "    <path d=\"M0 0h24v24H0V0z\" fill=\"none\"/>\n",
              "    <path d=\"M18.56 5.44l.94 2.06.94-2.06 2.06-.94-2.06-.94-.94-2.06-.94 2.06-2.06.94zm-11 1L8.5 8.5l.94-2.06 2.06-.94-2.06-.94L8.5 2.5l-.94 2.06-2.06.94zm10 10l.94 2.06.94-2.06 2.06-.94-2.06-.94-.94-2.06-.94 2.06-2.06.94z\"/><path d=\"M17.41 7.96l-1.37-1.37c-.4-.4-.92-.59-1.43-.59-.52 0-1.04.2-1.43.59L10.3 9.45l-7.72 7.72c-.78.78-.78 2.05 0 2.83L4 21.41c.39.39.9.59 1.41.59.51 0 1.02-.2 1.41-.59l7.78-7.78 2.81-2.81c.8-.78.8-2.07 0-2.86zM5.41 20L4 18.59l7.72-7.72 1.47 1.35L5.41 20z\"/>\n",
              "  </svg>\n",
              "      </button>\n",
              "      \n",
              "  <style>\n",
              "    .colab-df-container {\n",
              "      display:flex;\n",
              "      flex-wrap:wrap;\n",
              "      gap: 12px;\n",
              "    }\n",
              "\n",
              "    .colab-df-convert {\n",
              "      background-color: #E8F0FE;\n",
              "      border: none;\n",
              "      border-radius: 50%;\n",
              "      cursor: pointer;\n",
              "      display: none;\n",
              "      fill: #1967D2;\n",
              "      height: 32px;\n",
              "      padding: 0 0 0 0;\n",
              "      width: 32px;\n",
              "    }\n",
              "\n",
              "    .colab-df-convert:hover {\n",
              "      background-color: #E2EBFA;\n",
              "      box-shadow: 0px 1px 2px rgba(60, 64, 67, 0.3), 0px 1px 3px 1px rgba(60, 64, 67, 0.15);\n",
              "      fill: #174EA6;\n",
              "    }\n",
              "\n",
              "    [theme=dark] .colab-df-convert {\n",
              "      background-color: #3B4455;\n",
              "      fill: #D2E3FC;\n",
              "    }\n",
              "\n",
              "    [theme=dark] .colab-df-convert:hover {\n",
              "      background-color: #434B5C;\n",
              "      box-shadow: 0px 1px 3px 1px rgba(0, 0, 0, 0.15);\n",
              "      filter: drop-shadow(0px 1px 2px rgba(0, 0, 0, 0.3));\n",
              "      fill: #FFFFFF;\n",
              "    }\n",
              "  </style>\n",
              "\n",
              "      <script>\n",
              "        const buttonEl =\n",
              "          document.querySelector('#df-2743526e-45c3-4500-bc02-fce2621ab8c7 button.colab-df-convert');\n",
              "        buttonEl.style.display =\n",
              "          google.colab.kernel.accessAllowed ? 'block' : 'none';\n",
              "\n",
              "        async function convertToInteractive(key) {\n",
              "          const element = document.querySelector('#df-2743526e-45c3-4500-bc02-fce2621ab8c7');\n",
              "          const dataTable =\n",
              "            await google.colab.kernel.invokeFunction('convertToInteractive',\n",
              "                                                     [key], {});\n",
              "          if (!dataTable) return;\n",
              "\n",
              "          const docLinkHtml = 'Like what you see? Visit the ' +\n",
              "            '<a target=\"_blank\" href=https://colab.research.google.com/notebooks/data_table.ipynb>data table notebook</a>'\n",
              "            + ' to learn more about interactive tables.';\n",
              "          element.innerHTML = '';\n",
              "          dataTable['output_type'] = 'display_data';\n",
              "          await google.colab.output.renderOutput(dataTable, element);\n",
              "          const docLink = document.createElement('div');\n",
              "          docLink.innerHTML = docLinkHtml;\n",
              "          element.appendChild(docLink);\n",
              "        }\n",
              "      </script>\n",
              "    </div>\n",
              "  </div>\n",
              "  "
            ]
          },
          "metadata": {},
          "execution_count": 130
        }
      ]
    },
    {
      "cell_type": "markdown",
      "source": [
        "Now some changes needs to be done which makes our data more readable"
      ],
      "metadata": {
        "id": "iN3J5wiZenMj"
      }
    },
    {
      "cell_type": "code",
      "source": [
        "spotify_stream_df['ts'] = pd.to_datetime(spotify_stream_df['ts'])\n",
        "spotify_stream_df['ts'] = spotify_stream_df['ts'].dt.strftime('%Y-%m-%d %H:%M')\n",
        "spotify_stream_df.head(5)"
      ],
      "metadata": {
        "colab": {
          "base_uri": "https://localhost:8080/",
          "height": 414
        },
        "id": "e632Hp19eY4_",
        "outputId": "887aa04b-099a-4700-d9a1-63e27164b3be"
      },
      "execution_count": 131,
      "outputs": [
        {
          "output_type": "stream",
          "name": "stderr",
          "text": [
            "<ipython-input-131-53d899f584b0>:1: SettingWithCopyWarning: \n",
            "A value is trying to be set on a copy of a slice from a DataFrame.\n",
            "Try using .loc[row_indexer,col_indexer] = value instead\n",
            "\n",
            "See the caveats in the documentation: https://pandas.pydata.org/pandas-docs/stable/user_guide/indexing.html#returning-a-view-versus-a-copy\n",
            "  spotify_stream_df['ts'] = pd.to_datetime(spotify_stream_df['ts'])\n",
            "<ipython-input-131-53d899f584b0>:2: SettingWithCopyWarning: \n",
            "A value is trying to be set on a copy of a slice from a DataFrame.\n",
            "Try using .loc[row_indexer,col_indexer] = value instead\n",
            "\n",
            "See the caveats in the documentation: https://pandas.pydata.org/pandas-docs/stable/user_guide/indexing.html#returning-a-view-versus-a-copy\n",
            "  spotify_stream_df['ts'] = spotify_stream_df['ts'].dt.strftime('%Y-%m-%d %H:%M')\n"
          ]
        },
        {
          "output_type": "execute_result",
          "data": {
            "text/plain": [
              "                 ts  ms_played master_metadata_track_name  \\\n",
              "0  2020-02-24 03:25      66094              Feel so Lucky   \n",
              "1  2020-02-24 03:27     160353                   Me & You   \n",
              "2  2020-02-24 03:29     119683              Lost in Space   \n",
              "3  2020-02-24 03:30      13409       Just The Way You Are   \n",
              "4  2020-02-24 03:30      43399        HIGHEST IN THE ROOM   \n",
              "\n",
              "  master_metadata_album_artist_name  \n",
              "0                           T.L.I.D  \n",
              "1                           T.L.I.D  \n",
              "2                           T.L.I.D  \n",
              "3                        Bruno Mars  \n",
              "4                      Travis Scott  "
            ],
            "text/html": [
              "\n",
              "  <div id=\"df-3dfb100d-45ab-48f4-8fe1-71f840a492bb\">\n",
              "    <div class=\"colab-df-container\">\n",
              "      <div>\n",
              "<style scoped>\n",
              "    .dataframe tbody tr th:only-of-type {\n",
              "        vertical-align: middle;\n",
              "    }\n",
              "\n",
              "    .dataframe tbody tr th {\n",
              "        vertical-align: top;\n",
              "    }\n",
              "\n",
              "    .dataframe thead th {\n",
              "        text-align: right;\n",
              "    }\n",
              "</style>\n",
              "<table border=\"1\" class=\"dataframe\">\n",
              "  <thead>\n",
              "    <tr style=\"text-align: right;\">\n",
              "      <th></th>\n",
              "      <th>ts</th>\n",
              "      <th>ms_played</th>\n",
              "      <th>master_metadata_track_name</th>\n",
              "      <th>master_metadata_album_artist_name</th>\n",
              "    </tr>\n",
              "  </thead>\n",
              "  <tbody>\n",
              "    <tr>\n",
              "      <th>0</th>\n",
              "      <td>2020-02-24 03:25</td>\n",
              "      <td>66094</td>\n",
              "      <td>Feel so Lucky</td>\n",
              "      <td>T.L.I.D</td>\n",
              "    </tr>\n",
              "    <tr>\n",
              "      <th>1</th>\n",
              "      <td>2020-02-24 03:27</td>\n",
              "      <td>160353</td>\n",
              "      <td>Me &amp; You</td>\n",
              "      <td>T.L.I.D</td>\n",
              "    </tr>\n",
              "    <tr>\n",
              "      <th>2</th>\n",
              "      <td>2020-02-24 03:29</td>\n",
              "      <td>119683</td>\n",
              "      <td>Lost in Space</td>\n",
              "      <td>T.L.I.D</td>\n",
              "    </tr>\n",
              "    <tr>\n",
              "      <th>3</th>\n",
              "      <td>2020-02-24 03:30</td>\n",
              "      <td>13409</td>\n",
              "      <td>Just The Way You Are</td>\n",
              "      <td>Bruno Mars</td>\n",
              "    </tr>\n",
              "    <tr>\n",
              "      <th>4</th>\n",
              "      <td>2020-02-24 03:30</td>\n",
              "      <td>43399</td>\n",
              "      <td>HIGHEST IN THE ROOM</td>\n",
              "      <td>Travis Scott</td>\n",
              "    </tr>\n",
              "  </tbody>\n",
              "</table>\n",
              "</div>\n",
              "      <button class=\"colab-df-convert\" onclick=\"convertToInteractive('df-3dfb100d-45ab-48f4-8fe1-71f840a492bb')\"\n",
              "              title=\"Convert this dataframe to an interactive table.\"\n",
              "              style=\"display:none;\">\n",
              "        \n",
              "  <svg xmlns=\"http://www.w3.org/2000/svg\" height=\"24px\"viewBox=\"0 0 24 24\"\n",
              "       width=\"24px\">\n",
              "    <path d=\"M0 0h24v24H0V0z\" fill=\"none\"/>\n",
              "    <path d=\"M18.56 5.44l.94 2.06.94-2.06 2.06-.94-2.06-.94-.94-2.06-.94 2.06-2.06.94zm-11 1L8.5 8.5l.94-2.06 2.06-.94-2.06-.94L8.5 2.5l-.94 2.06-2.06.94zm10 10l.94 2.06.94-2.06 2.06-.94-2.06-.94-.94-2.06-.94 2.06-2.06.94z\"/><path d=\"M17.41 7.96l-1.37-1.37c-.4-.4-.92-.59-1.43-.59-.52 0-1.04.2-1.43.59L10.3 9.45l-7.72 7.72c-.78.78-.78 2.05 0 2.83L4 21.41c.39.39.9.59 1.41.59.51 0 1.02-.2 1.41-.59l7.78-7.78 2.81-2.81c.8-.78.8-2.07 0-2.86zM5.41 20L4 18.59l7.72-7.72 1.47 1.35L5.41 20z\"/>\n",
              "  </svg>\n",
              "      </button>\n",
              "      \n",
              "  <style>\n",
              "    .colab-df-container {\n",
              "      display:flex;\n",
              "      flex-wrap:wrap;\n",
              "      gap: 12px;\n",
              "    }\n",
              "\n",
              "    .colab-df-convert {\n",
              "      background-color: #E8F0FE;\n",
              "      border: none;\n",
              "      border-radius: 50%;\n",
              "      cursor: pointer;\n",
              "      display: none;\n",
              "      fill: #1967D2;\n",
              "      height: 32px;\n",
              "      padding: 0 0 0 0;\n",
              "      width: 32px;\n",
              "    }\n",
              "\n",
              "    .colab-df-convert:hover {\n",
              "      background-color: #E2EBFA;\n",
              "      box-shadow: 0px 1px 2px rgba(60, 64, 67, 0.3), 0px 1px 3px 1px rgba(60, 64, 67, 0.15);\n",
              "      fill: #174EA6;\n",
              "    }\n",
              "\n",
              "    [theme=dark] .colab-df-convert {\n",
              "      background-color: #3B4455;\n",
              "      fill: #D2E3FC;\n",
              "    }\n",
              "\n",
              "    [theme=dark] .colab-df-convert:hover {\n",
              "      background-color: #434B5C;\n",
              "      box-shadow: 0px 1px 3px 1px rgba(0, 0, 0, 0.15);\n",
              "      filter: drop-shadow(0px 1px 2px rgba(0, 0, 0, 0.3));\n",
              "      fill: #FFFFFF;\n",
              "    }\n",
              "  </style>\n",
              "\n",
              "      <script>\n",
              "        const buttonEl =\n",
              "          document.querySelector('#df-3dfb100d-45ab-48f4-8fe1-71f840a492bb button.colab-df-convert');\n",
              "        buttonEl.style.display =\n",
              "          google.colab.kernel.accessAllowed ? 'block' : 'none';\n",
              "\n",
              "        async function convertToInteractive(key) {\n",
              "          const element = document.querySelector('#df-3dfb100d-45ab-48f4-8fe1-71f840a492bb');\n",
              "          const dataTable =\n",
              "            await google.colab.kernel.invokeFunction('convertToInteractive',\n",
              "                                                     [key], {});\n",
              "          if (!dataTable) return;\n",
              "\n",
              "          const docLinkHtml = 'Like what you see? Visit the ' +\n",
              "            '<a target=\"_blank\" href=https://colab.research.google.com/notebooks/data_table.ipynb>data table notebook</a>'\n",
              "            + ' to learn more about interactive tables.';\n",
              "          element.innerHTML = '';\n",
              "          dataTable['output_type'] = 'display_data';\n",
              "          await google.colab.output.renderOutput(dataTable, element);\n",
              "          const docLink = document.createElement('div');\n",
              "          docLink.innerHTML = docLinkHtml;\n",
              "          element.appendChild(docLink);\n",
              "        }\n",
              "      </script>\n",
              "    </div>\n",
              "  </div>\n",
              "  "
            ]
          },
          "metadata": {},
          "execution_count": 131
        }
      ]
    },
    {
      "cell_type": "code",
      "source": [
        "len(spotify_stream_df[\"master_metadata_album_artist_name\"].unique())"
      ],
      "metadata": {
        "colab": {
          "base_uri": "https://localhost:8080/"
        },
        "id": "2y8xJ7iffInO",
        "outputId": "b690e983-de56-4ab1-d6c1-d8f543c89096"
      },
      "execution_count": 132,
      "outputs": [
        {
          "output_type": "execute_result",
          "data": {
            "text/plain": [
              "1064"
            ]
          },
          "metadata": {},
          "execution_count": 132
        }
      ]
    },
    {
      "cell_type": "markdown",
      "source": [
        "There is 1064 unique artist_album"
      ],
      "metadata": {
        "id": "7VqE1J7Hfcz1"
      }
    },
    {
      "cell_type": "code",
      "source": [
        "len(spotify_stream_df[\"master_metadata_track_name\"].unique())"
      ],
      "metadata": {
        "colab": {
          "base_uri": "https://localhost:8080/"
        },
        "id": "8L5JLKurfaYT",
        "outputId": "6b1aec62-0f70-40a7-a323-d96b6dfa5da7"
      },
      "execution_count": 133,
      "outputs": [
        {
          "output_type": "execute_result",
          "data": {
            "text/plain": [
              "2586"
            ]
          },
          "metadata": {},
          "execution_count": 133
        }
      ]
    },
    {
      "cell_type": "markdown",
      "source": [
        "Length of unique tracks"
      ],
      "metadata": {
        "id": "obFMo5I7fq7D"
      }
    },
    {
      "cell_type": "markdown",
      "source": [
        "Making Timestamp to play time"
      ],
      "metadata": {
        "id": "2sz3VtDkSC92"
      }
    },
    {
      "cell_type": "code",
      "source": [
        "spotify_stream_df[\"Play-Time\"]= pd.to_datetime(spotify_stream_df[\"ts\"])\n",
        "spotify_stream_df[\"Play-Time\"].head(2)"
      ],
      "metadata": {
        "colab": {
          "base_uri": "https://localhost:8080/"
        },
        "id": "2ua4YSC9foTk",
        "outputId": "b3deba7a-e2a0-4fe9-8b8a-be20180ddf7e"
      },
      "execution_count": 134,
      "outputs": [
        {
          "output_type": "stream",
          "name": "stderr",
          "text": [
            "<ipython-input-134-39a9c060b5de>:1: SettingWithCopyWarning: \n",
            "A value is trying to be set on a copy of a slice from a DataFrame.\n",
            "Try using .loc[row_indexer,col_indexer] = value instead\n",
            "\n",
            "See the caveats in the documentation: https://pandas.pydata.org/pandas-docs/stable/user_guide/indexing.html#returning-a-view-versus-a-copy\n",
            "  spotify_stream_df[\"Play-Time\"]= pd.to_datetime(spotify_stream_df[\"ts\"])\n"
          ]
        },
        {
          "output_type": "execute_result",
          "data": {
            "text/plain": [
              "0   2020-02-24 03:25:00\n",
              "1   2020-02-24 03:27:00\n",
              "Name: Play-Time, dtype: datetime64[ns]"
            ]
          },
          "metadata": {},
          "execution_count": 134
        }
      ]
    },
    {
      "cell_type": "markdown",
      "source": [
        "Distributing play-time into years,month,day,weekday etc.\n",
        "\n",
        "\n",
        "\n"
      ],
      "metadata": {
        "id": "PUSo2eRRSBBm"
      }
    },
    {
      "cell_type": "code",
      "source": [
        "spotify_stream_df['year'] = pd.DatetimeIndex(spotify_stream_df[\"Play-Time\"]).year\n",
        "spotify_stream_df['month'] = pd.DatetimeIndex(spotify_stream_df[\"Play-Time\"]).month\n",
        "spotify_stream_df['day'] = pd.DatetimeIndex(spotify_stream_df[\"Play-Time\"]).day\n",
        "spotify_stream_df['weekday'] = pd.DatetimeIndex(spotify_stream_df[\"Play-Time\"]).weekday\n",
        "spotify_stream_df['time'] = pd.DatetimeIndex(spotify_stream_df[\"Play-Time\"]).time\n",
        "spotify_stream_df['hours'] = pd.DatetimeIndex(spotify_stream_df[\"Play-Time\"]).hour\n",
        "spotify_stream_df['day-name'] = spotify_stream_df[\"Play-Time\"].apply(lambda x: x.day_name())\n",
        "spotify_stream_df['Count'] = 1\n",
        "spotify_stream_df[\"Time-Played (hh-mm-ss)\"] = pd.to_timedelta(spotify_stream_df[\"ms_played\"], unit='ms')\n"
      ],
      "metadata": {
        "colab": {
          "base_uri": "https://localhost:8080/"
        },
        "id": "iSogdhIBPGBq",
        "outputId": "0d6cbc83-7e5c-428f-f58a-efb69e1d6485"
      },
      "execution_count": 135,
      "outputs": [
        {
          "output_type": "stream",
          "name": "stderr",
          "text": [
            "<ipython-input-135-1a870e9dfe30>:1: SettingWithCopyWarning: \n",
            "A value is trying to be set on a copy of a slice from a DataFrame.\n",
            "Try using .loc[row_indexer,col_indexer] = value instead\n",
            "\n",
            "See the caveats in the documentation: https://pandas.pydata.org/pandas-docs/stable/user_guide/indexing.html#returning-a-view-versus-a-copy\n",
            "  spotify_stream_df['year'] = pd.DatetimeIndex(spotify_stream_df[\"Play-Time\"]).year\n",
            "<ipython-input-135-1a870e9dfe30>:2: SettingWithCopyWarning: \n",
            "A value is trying to be set on a copy of a slice from a DataFrame.\n",
            "Try using .loc[row_indexer,col_indexer] = value instead\n",
            "\n",
            "See the caveats in the documentation: https://pandas.pydata.org/pandas-docs/stable/user_guide/indexing.html#returning-a-view-versus-a-copy\n",
            "  spotify_stream_df['month'] = pd.DatetimeIndex(spotify_stream_df[\"Play-Time\"]).month\n",
            "<ipython-input-135-1a870e9dfe30>:3: SettingWithCopyWarning: \n",
            "A value is trying to be set on a copy of a slice from a DataFrame.\n",
            "Try using .loc[row_indexer,col_indexer] = value instead\n",
            "\n",
            "See the caveats in the documentation: https://pandas.pydata.org/pandas-docs/stable/user_guide/indexing.html#returning-a-view-versus-a-copy\n",
            "  spotify_stream_df['day'] = pd.DatetimeIndex(spotify_stream_df[\"Play-Time\"]).day\n",
            "<ipython-input-135-1a870e9dfe30>:4: SettingWithCopyWarning: \n",
            "A value is trying to be set on a copy of a slice from a DataFrame.\n",
            "Try using .loc[row_indexer,col_indexer] = value instead\n",
            "\n",
            "See the caveats in the documentation: https://pandas.pydata.org/pandas-docs/stable/user_guide/indexing.html#returning-a-view-versus-a-copy\n",
            "  spotify_stream_df['weekday'] = pd.DatetimeIndex(spotify_stream_df[\"Play-Time\"]).weekday\n",
            "<ipython-input-135-1a870e9dfe30>:5: SettingWithCopyWarning: \n",
            "A value is trying to be set on a copy of a slice from a DataFrame.\n",
            "Try using .loc[row_indexer,col_indexer] = value instead\n",
            "\n",
            "See the caveats in the documentation: https://pandas.pydata.org/pandas-docs/stable/user_guide/indexing.html#returning-a-view-versus-a-copy\n",
            "  spotify_stream_df['time'] = pd.DatetimeIndex(spotify_stream_df[\"Play-Time\"]).time\n",
            "<ipython-input-135-1a870e9dfe30>:6: SettingWithCopyWarning: \n",
            "A value is trying to be set on a copy of a slice from a DataFrame.\n",
            "Try using .loc[row_indexer,col_indexer] = value instead\n",
            "\n",
            "See the caveats in the documentation: https://pandas.pydata.org/pandas-docs/stable/user_guide/indexing.html#returning-a-view-versus-a-copy\n",
            "  spotify_stream_df['hours'] = pd.DatetimeIndex(spotify_stream_df[\"Play-Time\"]).hour\n",
            "<ipython-input-135-1a870e9dfe30>:7: SettingWithCopyWarning: \n",
            "A value is trying to be set on a copy of a slice from a DataFrame.\n",
            "Try using .loc[row_indexer,col_indexer] = value instead\n",
            "\n",
            "See the caveats in the documentation: https://pandas.pydata.org/pandas-docs/stable/user_guide/indexing.html#returning-a-view-versus-a-copy\n",
            "  spotify_stream_df['day-name'] = spotify_stream_df[\"Play-Time\"].apply(lambda x: x.day_name())\n",
            "<ipython-input-135-1a870e9dfe30>:8: SettingWithCopyWarning: \n",
            "A value is trying to be set on a copy of a slice from a DataFrame.\n",
            "Try using .loc[row_indexer,col_indexer] = value instead\n",
            "\n",
            "See the caveats in the documentation: https://pandas.pydata.org/pandas-docs/stable/user_guide/indexing.html#returning-a-view-versus-a-copy\n",
            "  spotify_stream_df['Count'] = 1\n",
            "<ipython-input-135-1a870e9dfe30>:9: SettingWithCopyWarning: \n",
            "A value is trying to be set on a copy of a slice from a DataFrame.\n",
            "Try using .loc[row_indexer,col_indexer] = value instead\n",
            "\n",
            "See the caveats in the documentation: https://pandas.pydata.org/pandas-docs/stable/user_guide/indexing.html#returning-a-view-versus-a-copy\n",
            "  spotify_stream_df[\"Time-Played (hh-mm-ss)\"] = pd.to_timedelta(spotify_stream_df[\"ms_played\"], unit='ms')\n"
          ]
        }
      ]
    },
    {
      "cell_type": "markdown",
      "source": [
        "Making Listening time from time played"
      ],
      "metadata": {
        "id": "-48anLiRScIo"
      }
    },
    {
      "cell_type": "code",
      "source": [
        "def hours(td):\n",
        "    return td.seconds/3600\n",
        "def minutes(td):\n",
        "    return (td.seconds/60)%60\n",
        "\n",
        "spotify_stream_df[\"Listening Time(Hours)\"] = spotify_stream_df[\"Time-Played (hh-mm-ss)\"].apply(hours).round(3)\n",
        "spotify_stream_df[\"Listening Time(Minutes)\"] = spotify_stream_df[\"Time-Played (hh-mm-ss)\"].apply(minutes).round(3)\n",
        ""
      ],
      "metadata": {
        "colab": {
          "base_uri": "https://localhost:8080/"
        },
        "id": "wSEWv9DVPOGE",
        "outputId": "d40e8df0-c9d1-40c3-b93a-c345f7e20dcb"
      },
      "execution_count": 136,
      "outputs": [
        {
          "output_type": "stream",
          "name": "stderr",
          "text": [
            "<ipython-input-136-a856a97ed2ce>:6: SettingWithCopyWarning: \n",
            "A value is trying to be set on a copy of a slice from a DataFrame.\n",
            "Try using .loc[row_indexer,col_indexer] = value instead\n",
            "\n",
            "See the caveats in the documentation: https://pandas.pydata.org/pandas-docs/stable/user_guide/indexing.html#returning-a-view-versus-a-copy\n",
            "  spotify_stream_df[\"Listening Time(Hours)\"] = spotify_stream_df[\"Time-Played (hh-mm-ss)\"].apply(hours).round(3)\n",
            "<ipython-input-136-a856a97ed2ce>:7: SettingWithCopyWarning: \n",
            "A value is trying to be set on a copy of a slice from a DataFrame.\n",
            "Try using .loc[row_indexer,col_indexer] = value instead\n",
            "\n",
            "See the caveats in the documentation: https://pandas.pydata.org/pandas-docs/stable/user_guide/indexing.html#returning-a-view-versus-a-copy\n",
            "  spotify_stream_df[\"Listening Time(Minutes)\"] = spotify_stream_df[\"Time-Played (hh-mm-ss)\"].apply(minutes).round(3)\n"
          ]
        }
      ]
    },
    {
      "cell_type": "markdown",
      "source": [
        "Now We will look the dataset again"
      ],
      "metadata": {
        "id": "4rUvWbADSurT"
      }
    },
    {
      "cell_type": "code",
      "source": [
        "spotify_stream_df.head(5)"
      ],
      "metadata": {
        "colab": {
          "base_uri": "https://localhost:8080/",
          "height": 461
        },
        "id": "C1oXdnX8PmwT",
        "outputId": "9c2fc24f-428e-45cf-bb6d-ab699bedfbe2"
      },
      "execution_count": 137,
      "outputs": [
        {
          "output_type": "execute_result",
          "data": {
            "text/plain": [
              "                 ts  ms_played master_metadata_track_name  \\\n",
              "0  2020-02-24 03:25      66094              Feel so Lucky   \n",
              "1  2020-02-24 03:27     160353                   Me & You   \n",
              "2  2020-02-24 03:29     119683              Lost in Space   \n",
              "3  2020-02-24 03:30      13409       Just The Way You Are   \n",
              "4  2020-02-24 03:30      43399        HIGHEST IN THE ROOM   \n",
              "\n",
              "  master_metadata_album_artist_name           Play-Time  year  month  day  \\\n",
              "0                           T.L.I.D 2020-02-24 03:25:00  2020      2   24   \n",
              "1                           T.L.I.D 2020-02-24 03:27:00  2020      2   24   \n",
              "2                           T.L.I.D 2020-02-24 03:29:00  2020      2   24   \n",
              "3                        Bruno Mars 2020-02-24 03:30:00  2020      2   24   \n",
              "4                      Travis Scott 2020-02-24 03:30:00  2020      2   24   \n",
              "\n",
              "   weekday      time  hours day-name  Count Time-Played (hh-mm-ss)  \\\n",
              "0        0  03:25:00      3   Monday      1 0 days 00:01:06.094000   \n",
              "1        0  03:27:00      3   Monday      1 0 days 00:02:40.353000   \n",
              "2        0  03:29:00      3   Monday      1 0 days 00:01:59.683000   \n",
              "3        0  03:30:00      3   Monday      1 0 days 00:00:13.409000   \n",
              "4        0  03:30:00      3   Monday      1 0 days 00:00:43.399000   \n",
              "\n",
              "   Listening Time(Hours)  Listening Time(Minutes)  \n",
              "0                  0.018                    1.100  \n",
              "1                  0.044                    2.667  \n",
              "2                  0.033                    1.983  \n",
              "3                  0.004                    0.217  \n",
              "4                  0.012                    0.717  "
            ],
            "text/html": [
              "\n",
              "  <div id=\"df-1853f30d-aa86-42ce-8414-d4683e7682ba\">\n",
              "    <div class=\"colab-df-container\">\n",
              "      <div>\n",
              "<style scoped>\n",
              "    .dataframe tbody tr th:only-of-type {\n",
              "        vertical-align: middle;\n",
              "    }\n",
              "\n",
              "    .dataframe tbody tr th {\n",
              "        vertical-align: top;\n",
              "    }\n",
              "\n",
              "    .dataframe thead th {\n",
              "        text-align: right;\n",
              "    }\n",
              "</style>\n",
              "<table border=\"1\" class=\"dataframe\">\n",
              "  <thead>\n",
              "    <tr style=\"text-align: right;\">\n",
              "      <th></th>\n",
              "      <th>ts</th>\n",
              "      <th>ms_played</th>\n",
              "      <th>master_metadata_track_name</th>\n",
              "      <th>master_metadata_album_artist_name</th>\n",
              "      <th>Play-Time</th>\n",
              "      <th>year</th>\n",
              "      <th>month</th>\n",
              "      <th>day</th>\n",
              "      <th>weekday</th>\n",
              "      <th>time</th>\n",
              "      <th>hours</th>\n",
              "      <th>day-name</th>\n",
              "      <th>Count</th>\n",
              "      <th>Time-Played (hh-mm-ss)</th>\n",
              "      <th>Listening Time(Hours)</th>\n",
              "      <th>Listening Time(Minutes)</th>\n",
              "    </tr>\n",
              "  </thead>\n",
              "  <tbody>\n",
              "    <tr>\n",
              "      <th>0</th>\n",
              "      <td>2020-02-24 03:25</td>\n",
              "      <td>66094</td>\n",
              "      <td>Feel so Lucky</td>\n",
              "      <td>T.L.I.D</td>\n",
              "      <td>2020-02-24 03:25:00</td>\n",
              "      <td>2020</td>\n",
              "      <td>2</td>\n",
              "      <td>24</td>\n",
              "      <td>0</td>\n",
              "      <td>03:25:00</td>\n",
              "      <td>3</td>\n",
              "      <td>Monday</td>\n",
              "      <td>1</td>\n",
              "      <td>0 days 00:01:06.094000</td>\n",
              "      <td>0.018</td>\n",
              "      <td>1.100</td>\n",
              "    </tr>\n",
              "    <tr>\n",
              "      <th>1</th>\n",
              "      <td>2020-02-24 03:27</td>\n",
              "      <td>160353</td>\n",
              "      <td>Me &amp; You</td>\n",
              "      <td>T.L.I.D</td>\n",
              "      <td>2020-02-24 03:27:00</td>\n",
              "      <td>2020</td>\n",
              "      <td>2</td>\n",
              "      <td>24</td>\n",
              "      <td>0</td>\n",
              "      <td>03:27:00</td>\n",
              "      <td>3</td>\n",
              "      <td>Monday</td>\n",
              "      <td>1</td>\n",
              "      <td>0 days 00:02:40.353000</td>\n",
              "      <td>0.044</td>\n",
              "      <td>2.667</td>\n",
              "    </tr>\n",
              "    <tr>\n",
              "      <th>2</th>\n",
              "      <td>2020-02-24 03:29</td>\n",
              "      <td>119683</td>\n",
              "      <td>Lost in Space</td>\n",
              "      <td>T.L.I.D</td>\n",
              "      <td>2020-02-24 03:29:00</td>\n",
              "      <td>2020</td>\n",
              "      <td>2</td>\n",
              "      <td>24</td>\n",
              "      <td>0</td>\n",
              "      <td>03:29:00</td>\n",
              "      <td>3</td>\n",
              "      <td>Monday</td>\n",
              "      <td>1</td>\n",
              "      <td>0 days 00:01:59.683000</td>\n",
              "      <td>0.033</td>\n",
              "      <td>1.983</td>\n",
              "    </tr>\n",
              "    <tr>\n",
              "      <th>3</th>\n",
              "      <td>2020-02-24 03:30</td>\n",
              "      <td>13409</td>\n",
              "      <td>Just The Way You Are</td>\n",
              "      <td>Bruno Mars</td>\n",
              "      <td>2020-02-24 03:30:00</td>\n",
              "      <td>2020</td>\n",
              "      <td>2</td>\n",
              "      <td>24</td>\n",
              "      <td>0</td>\n",
              "      <td>03:30:00</td>\n",
              "      <td>3</td>\n",
              "      <td>Monday</td>\n",
              "      <td>1</td>\n",
              "      <td>0 days 00:00:13.409000</td>\n",
              "      <td>0.004</td>\n",
              "      <td>0.217</td>\n",
              "    </tr>\n",
              "    <tr>\n",
              "      <th>4</th>\n",
              "      <td>2020-02-24 03:30</td>\n",
              "      <td>43399</td>\n",
              "      <td>HIGHEST IN THE ROOM</td>\n",
              "      <td>Travis Scott</td>\n",
              "      <td>2020-02-24 03:30:00</td>\n",
              "      <td>2020</td>\n",
              "      <td>2</td>\n",
              "      <td>24</td>\n",
              "      <td>0</td>\n",
              "      <td>03:30:00</td>\n",
              "      <td>3</td>\n",
              "      <td>Monday</td>\n",
              "      <td>1</td>\n",
              "      <td>0 days 00:00:43.399000</td>\n",
              "      <td>0.012</td>\n",
              "      <td>0.717</td>\n",
              "    </tr>\n",
              "  </tbody>\n",
              "</table>\n",
              "</div>\n",
              "      <button class=\"colab-df-convert\" onclick=\"convertToInteractive('df-1853f30d-aa86-42ce-8414-d4683e7682ba')\"\n",
              "              title=\"Convert this dataframe to an interactive table.\"\n",
              "              style=\"display:none;\">\n",
              "        \n",
              "  <svg xmlns=\"http://www.w3.org/2000/svg\" height=\"24px\"viewBox=\"0 0 24 24\"\n",
              "       width=\"24px\">\n",
              "    <path d=\"M0 0h24v24H0V0z\" fill=\"none\"/>\n",
              "    <path d=\"M18.56 5.44l.94 2.06.94-2.06 2.06-.94-2.06-.94-.94-2.06-.94 2.06-2.06.94zm-11 1L8.5 8.5l.94-2.06 2.06-.94-2.06-.94L8.5 2.5l-.94 2.06-2.06.94zm10 10l.94 2.06.94-2.06 2.06-.94-2.06-.94-.94-2.06-.94 2.06-2.06.94z\"/><path d=\"M17.41 7.96l-1.37-1.37c-.4-.4-.92-.59-1.43-.59-.52 0-1.04.2-1.43.59L10.3 9.45l-7.72 7.72c-.78.78-.78 2.05 0 2.83L4 21.41c.39.39.9.59 1.41.59.51 0 1.02-.2 1.41-.59l7.78-7.78 2.81-2.81c.8-.78.8-2.07 0-2.86zM5.41 20L4 18.59l7.72-7.72 1.47 1.35L5.41 20z\"/>\n",
              "  </svg>\n",
              "      </button>\n",
              "      \n",
              "  <style>\n",
              "    .colab-df-container {\n",
              "      display:flex;\n",
              "      flex-wrap:wrap;\n",
              "      gap: 12px;\n",
              "    }\n",
              "\n",
              "    .colab-df-convert {\n",
              "      background-color: #E8F0FE;\n",
              "      border: none;\n",
              "      border-radius: 50%;\n",
              "      cursor: pointer;\n",
              "      display: none;\n",
              "      fill: #1967D2;\n",
              "      height: 32px;\n",
              "      padding: 0 0 0 0;\n",
              "      width: 32px;\n",
              "    }\n",
              "\n",
              "    .colab-df-convert:hover {\n",
              "      background-color: #E2EBFA;\n",
              "      box-shadow: 0px 1px 2px rgba(60, 64, 67, 0.3), 0px 1px 3px 1px rgba(60, 64, 67, 0.15);\n",
              "      fill: #174EA6;\n",
              "    }\n",
              "\n",
              "    [theme=dark] .colab-df-convert {\n",
              "      background-color: #3B4455;\n",
              "      fill: #D2E3FC;\n",
              "    }\n",
              "\n",
              "    [theme=dark] .colab-df-convert:hover {\n",
              "      background-color: #434B5C;\n",
              "      box-shadow: 0px 1px 3px 1px rgba(0, 0, 0, 0.15);\n",
              "      filter: drop-shadow(0px 1px 2px rgba(0, 0, 0, 0.3));\n",
              "      fill: #FFFFFF;\n",
              "    }\n",
              "  </style>\n",
              "\n",
              "      <script>\n",
              "        const buttonEl =\n",
              "          document.querySelector('#df-1853f30d-aa86-42ce-8414-d4683e7682ba button.colab-df-convert');\n",
              "        buttonEl.style.display =\n",
              "          google.colab.kernel.accessAllowed ? 'block' : 'none';\n",
              "\n",
              "        async function convertToInteractive(key) {\n",
              "          const element = document.querySelector('#df-1853f30d-aa86-42ce-8414-d4683e7682ba');\n",
              "          const dataTable =\n",
              "            await google.colab.kernel.invokeFunction('convertToInteractive',\n",
              "                                                     [key], {});\n",
              "          if (!dataTable) return;\n",
              "\n",
              "          const docLinkHtml = 'Like what you see? Visit the ' +\n",
              "            '<a target=\"_blank\" href=https://colab.research.google.com/notebooks/data_table.ipynb>data table notebook</a>'\n",
              "            + ' to learn more about interactive tables.';\n",
              "          element.innerHTML = '';\n",
              "          dataTable['output_type'] = 'display_data';\n",
              "          await google.colab.output.renderOutput(dataTable, element);\n",
              "          const docLink = document.createElement('div');\n",
              "          docLink.innerHTML = docLinkHtml;\n",
              "          element.appendChild(docLink);\n",
              "        }\n",
              "      </script>\n",
              "    </div>\n",
              "  </div>\n",
              "  "
            ]
          },
          "metadata": {},
          "execution_count": 137
        }
      ]
    },
    {
      "cell_type": "markdown",
      "source": [
        "Here some of the columns are useless because we have alredy created another to describe that like ts,time-played etc."
      ],
      "metadata": {
        "id": "zJrxqSW9TWTH"
      }
    },
    {
      "cell_type": "code",
      "source": [
        "spotify_stream_df.drop(columns=[\"ts\",\"Time-Played (hh-mm-ss)\",\"ms_played\"],inplace = True)"
      ],
      "metadata": {
        "colab": {
          "base_uri": "https://localhost:8080/"
        },
        "id": "_Obol4VkS4UO",
        "outputId": "dfe99559-2e37-4849-84b2-9e4e056ed32c"
      },
      "execution_count": 138,
      "outputs": [
        {
          "output_type": "stream",
          "name": "stderr",
          "text": [
            "<ipython-input-138-124b149f0578>:1: SettingWithCopyWarning: \n",
            "A value is trying to be set on a copy of a slice from a DataFrame\n",
            "\n",
            "See the caveats in the documentation: https://pandas.pydata.org/pandas-docs/stable/user_guide/indexing.html#returning-a-view-versus-a-copy\n",
            "  spotify_stream_df.drop(columns=[\"ts\",\"Time-Played (hh-mm-ss)\",\"ms_played\"],inplace = True)\n"
          ]
        }
      ]
    },
    {
      "cell_type": "markdown",
      "source": [
        "Now we will look again over data set"
      ],
      "metadata": {
        "id": "M8d7YFYZT22M"
      }
    },
    {
      "cell_type": "code",
      "source": [
        "spotify_stream_df.head(4)"
      ],
      "metadata": {
        "colab": {
          "base_uri": "https://localhost:8080/",
          "height": 305
        },
        "id": "Bc0WYDNYTx9m",
        "outputId": "f0ba55ab-f680-4466-edea-96d8f468214a"
      },
      "execution_count": 139,
      "outputs": [
        {
          "output_type": "execute_result",
          "data": {
            "text/plain": [
              "  master_metadata_track_name master_metadata_album_artist_name  \\\n",
              "0              Feel so Lucky                           T.L.I.D   \n",
              "1                   Me & You                           T.L.I.D   \n",
              "2              Lost in Space                           T.L.I.D   \n",
              "3       Just The Way You Are                        Bruno Mars   \n",
              "\n",
              "            Play-Time  year  month  day  weekday      time  hours day-name  \\\n",
              "0 2020-02-24 03:25:00  2020      2   24        0  03:25:00      3   Monday   \n",
              "1 2020-02-24 03:27:00  2020      2   24        0  03:27:00      3   Monday   \n",
              "2 2020-02-24 03:29:00  2020      2   24        0  03:29:00      3   Monday   \n",
              "3 2020-02-24 03:30:00  2020      2   24        0  03:30:00      3   Monday   \n",
              "\n",
              "   Count  Listening Time(Hours)  Listening Time(Minutes)  \n",
              "0      1                  0.018                    1.100  \n",
              "1      1                  0.044                    2.667  \n",
              "2      1                  0.033                    1.983  \n",
              "3      1                  0.004                    0.217  "
            ],
            "text/html": [
              "\n",
              "  <div id=\"df-46a1f51b-9e19-47a6-a301-3edf303aa632\">\n",
              "    <div class=\"colab-df-container\">\n",
              "      <div>\n",
              "<style scoped>\n",
              "    .dataframe tbody tr th:only-of-type {\n",
              "        vertical-align: middle;\n",
              "    }\n",
              "\n",
              "    .dataframe tbody tr th {\n",
              "        vertical-align: top;\n",
              "    }\n",
              "\n",
              "    .dataframe thead th {\n",
              "        text-align: right;\n",
              "    }\n",
              "</style>\n",
              "<table border=\"1\" class=\"dataframe\">\n",
              "  <thead>\n",
              "    <tr style=\"text-align: right;\">\n",
              "      <th></th>\n",
              "      <th>master_metadata_track_name</th>\n",
              "      <th>master_metadata_album_artist_name</th>\n",
              "      <th>Play-Time</th>\n",
              "      <th>year</th>\n",
              "      <th>month</th>\n",
              "      <th>day</th>\n",
              "      <th>weekday</th>\n",
              "      <th>time</th>\n",
              "      <th>hours</th>\n",
              "      <th>day-name</th>\n",
              "      <th>Count</th>\n",
              "      <th>Listening Time(Hours)</th>\n",
              "      <th>Listening Time(Minutes)</th>\n",
              "    </tr>\n",
              "  </thead>\n",
              "  <tbody>\n",
              "    <tr>\n",
              "      <th>0</th>\n",
              "      <td>Feel so Lucky</td>\n",
              "      <td>T.L.I.D</td>\n",
              "      <td>2020-02-24 03:25:00</td>\n",
              "      <td>2020</td>\n",
              "      <td>2</td>\n",
              "      <td>24</td>\n",
              "      <td>0</td>\n",
              "      <td>03:25:00</td>\n",
              "      <td>3</td>\n",
              "      <td>Monday</td>\n",
              "      <td>1</td>\n",
              "      <td>0.018</td>\n",
              "      <td>1.100</td>\n",
              "    </tr>\n",
              "    <tr>\n",
              "      <th>1</th>\n",
              "      <td>Me &amp; You</td>\n",
              "      <td>T.L.I.D</td>\n",
              "      <td>2020-02-24 03:27:00</td>\n",
              "      <td>2020</td>\n",
              "      <td>2</td>\n",
              "      <td>24</td>\n",
              "      <td>0</td>\n",
              "      <td>03:27:00</td>\n",
              "      <td>3</td>\n",
              "      <td>Monday</td>\n",
              "      <td>1</td>\n",
              "      <td>0.044</td>\n",
              "      <td>2.667</td>\n",
              "    </tr>\n",
              "    <tr>\n",
              "      <th>2</th>\n",
              "      <td>Lost in Space</td>\n",
              "      <td>T.L.I.D</td>\n",
              "      <td>2020-02-24 03:29:00</td>\n",
              "      <td>2020</td>\n",
              "      <td>2</td>\n",
              "      <td>24</td>\n",
              "      <td>0</td>\n",
              "      <td>03:29:00</td>\n",
              "      <td>3</td>\n",
              "      <td>Monday</td>\n",
              "      <td>1</td>\n",
              "      <td>0.033</td>\n",
              "      <td>1.983</td>\n",
              "    </tr>\n",
              "    <tr>\n",
              "      <th>3</th>\n",
              "      <td>Just The Way You Are</td>\n",
              "      <td>Bruno Mars</td>\n",
              "      <td>2020-02-24 03:30:00</td>\n",
              "      <td>2020</td>\n",
              "      <td>2</td>\n",
              "      <td>24</td>\n",
              "      <td>0</td>\n",
              "      <td>03:30:00</td>\n",
              "      <td>3</td>\n",
              "      <td>Monday</td>\n",
              "      <td>1</td>\n",
              "      <td>0.004</td>\n",
              "      <td>0.217</td>\n",
              "    </tr>\n",
              "  </tbody>\n",
              "</table>\n",
              "</div>\n",
              "      <button class=\"colab-df-convert\" onclick=\"convertToInteractive('df-46a1f51b-9e19-47a6-a301-3edf303aa632')\"\n",
              "              title=\"Convert this dataframe to an interactive table.\"\n",
              "              style=\"display:none;\">\n",
              "        \n",
              "  <svg xmlns=\"http://www.w3.org/2000/svg\" height=\"24px\"viewBox=\"0 0 24 24\"\n",
              "       width=\"24px\">\n",
              "    <path d=\"M0 0h24v24H0V0z\" fill=\"none\"/>\n",
              "    <path d=\"M18.56 5.44l.94 2.06.94-2.06 2.06-.94-2.06-.94-.94-2.06-.94 2.06-2.06.94zm-11 1L8.5 8.5l.94-2.06 2.06-.94-2.06-.94L8.5 2.5l-.94 2.06-2.06.94zm10 10l.94 2.06.94-2.06 2.06-.94-2.06-.94-.94-2.06-.94 2.06-2.06.94z\"/><path d=\"M17.41 7.96l-1.37-1.37c-.4-.4-.92-.59-1.43-.59-.52 0-1.04.2-1.43.59L10.3 9.45l-7.72 7.72c-.78.78-.78 2.05 0 2.83L4 21.41c.39.39.9.59 1.41.59.51 0 1.02-.2 1.41-.59l7.78-7.78 2.81-2.81c.8-.78.8-2.07 0-2.86zM5.41 20L4 18.59l7.72-7.72 1.47 1.35L5.41 20z\"/>\n",
              "  </svg>\n",
              "      </button>\n",
              "      \n",
              "  <style>\n",
              "    .colab-df-container {\n",
              "      display:flex;\n",
              "      flex-wrap:wrap;\n",
              "      gap: 12px;\n",
              "    }\n",
              "\n",
              "    .colab-df-convert {\n",
              "      background-color: #E8F0FE;\n",
              "      border: none;\n",
              "      border-radius: 50%;\n",
              "      cursor: pointer;\n",
              "      display: none;\n",
              "      fill: #1967D2;\n",
              "      height: 32px;\n",
              "      padding: 0 0 0 0;\n",
              "      width: 32px;\n",
              "    }\n",
              "\n",
              "    .colab-df-convert:hover {\n",
              "      background-color: #E2EBFA;\n",
              "      box-shadow: 0px 1px 2px rgba(60, 64, 67, 0.3), 0px 1px 3px 1px rgba(60, 64, 67, 0.15);\n",
              "      fill: #174EA6;\n",
              "    }\n",
              "\n",
              "    [theme=dark] .colab-df-convert {\n",
              "      background-color: #3B4455;\n",
              "      fill: #D2E3FC;\n",
              "    }\n",
              "\n",
              "    [theme=dark] .colab-df-convert:hover {\n",
              "      background-color: #434B5C;\n",
              "      box-shadow: 0px 1px 3px 1px rgba(0, 0, 0, 0.15);\n",
              "      filter: drop-shadow(0px 1px 2px rgba(0, 0, 0, 0.3));\n",
              "      fill: #FFFFFF;\n",
              "    }\n",
              "  </style>\n",
              "\n",
              "      <script>\n",
              "        const buttonEl =\n",
              "          document.querySelector('#df-46a1f51b-9e19-47a6-a301-3edf303aa632 button.colab-df-convert');\n",
              "        buttonEl.style.display =\n",
              "          google.colab.kernel.accessAllowed ? 'block' : 'none';\n",
              "\n",
              "        async function convertToInteractive(key) {\n",
              "          const element = document.querySelector('#df-46a1f51b-9e19-47a6-a301-3edf303aa632');\n",
              "          const dataTable =\n",
              "            await google.colab.kernel.invokeFunction('convertToInteractive',\n",
              "                                                     [key], {});\n",
              "          if (!dataTable) return;\n",
              "\n",
              "          const docLinkHtml = 'Like what you see? Visit the ' +\n",
              "            '<a target=\"_blank\" href=https://colab.research.google.com/notebooks/data_table.ipynb>data table notebook</a>'\n",
              "            + ' to learn more about interactive tables.';\n",
              "          element.innerHTML = '';\n",
              "          dataTable['output_type'] = 'display_data';\n",
              "          await google.colab.output.renderOutput(dataTable, element);\n",
              "          const docLink = document.createElement('div');\n",
              "          docLink.innerHTML = docLinkHtml;\n",
              "          element.appendChild(docLink);\n",
              "        }\n",
              "      </script>\n",
              "    </div>\n",
              "  </div>\n",
              "  "
            ]
          },
          "metadata": {},
          "execution_count": 139
        }
      ]
    },
    {
      "cell_type": "markdown",
      "source": [
        "## DataFrame in detail view(Stats view)"
      ],
      "metadata": {
        "id": "Gp3hz2wRUO7b"
      }
    },
    {
      "cell_type": "code",
      "source": [
        "spotify_stream_df.describe()"
      ],
      "metadata": {
        "colab": {
          "base_uri": "https://localhost:8080/",
          "height": 300
        },
        "id": "iuy89ApDT8tx",
        "outputId": "3b50c444-ad61-4359-8257-fe4cd629f934"
      },
      "execution_count": 140,
      "outputs": [
        {
          "output_type": "execute_result",
          "data": {
            "text/plain": [
              "               year         month           day       weekday         hours  \\\n",
              "count  41389.000000  41389.000000  41389.000000  41389.000000  41389.000000   \n",
              "mean    2021.068376      6.282877     15.792409      2.805987     11.589021   \n",
              "std        0.995259      3.529967      8.622256      1.970462      6.500725   \n",
              "min     2020.000000      1.000000      1.000000      0.000000      0.000000   \n",
              "25%     2020.000000      3.000000      8.000000      1.000000      6.000000   \n",
              "50%     2021.000000      6.000000     16.000000      3.000000     11.000000   \n",
              "75%     2022.000000      9.000000     23.000000      5.000000     18.000000   \n",
              "max     2023.000000     12.000000     31.000000      6.000000     23.000000   \n",
              "\n",
              "         Count  Listening Time(Hours)  Listening Time(Minutes)  \n",
              "count  41389.0           41389.000000             41389.000000  \n",
              "mean       1.0               0.028755                 1.725259  \n",
              "std        0.0               0.032211                 1.932578  \n",
              "min        1.0               0.000000                 0.000000  \n",
              "25%        1.0               0.001000                 0.083000  \n",
              "50%        1.0               0.018000                 1.050000  \n",
              "75%        1.0               0.054000                 3.250000  \n",
              "max        1.0               0.836000                50.183000  "
            ],
            "text/html": [
              "\n",
              "  <div id=\"df-1c864de8-c4ef-493e-9b04-bf4312060c14\">\n",
              "    <div class=\"colab-df-container\">\n",
              "      <div>\n",
              "<style scoped>\n",
              "    .dataframe tbody tr th:only-of-type {\n",
              "        vertical-align: middle;\n",
              "    }\n",
              "\n",
              "    .dataframe tbody tr th {\n",
              "        vertical-align: top;\n",
              "    }\n",
              "\n",
              "    .dataframe thead th {\n",
              "        text-align: right;\n",
              "    }\n",
              "</style>\n",
              "<table border=\"1\" class=\"dataframe\">\n",
              "  <thead>\n",
              "    <tr style=\"text-align: right;\">\n",
              "      <th></th>\n",
              "      <th>year</th>\n",
              "      <th>month</th>\n",
              "      <th>day</th>\n",
              "      <th>weekday</th>\n",
              "      <th>hours</th>\n",
              "      <th>Count</th>\n",
              "      <th>Listening Time(Hours)</th>\n",
              "      <th>Listening Time(Minutes)</th>\n",
              "    </tr>\n",
              "  </thead>\n",
              "  <tbody>\n",
              "    <tr>\n",
              "      <th>count</th>\n",
              "      <td>41389.000000</td>\n",
              "      <td>41389.000000</td>\n",
              "      <td>41389.000000</td>\n",
              "      <td>41389.000000</td>\n",
              "      <td>41389.000000</td>\n",
              "      <td>41389.0</td>\n",
              "      <td>41389.000000</td>\n",
              "      <td>41389.000000</td>\n",
              "    </tr>\n",
              "    <tr>\n",
              "      <th>mean</th>\n",
              "      <td>2021.068376</td>\n",
              "      <td>6.282877</td>\n",
              "      <td>15.792409</td>\n",
              "      <td>2.805987</td>\n",
              "      <td>11.589021</td>\n",
              "      <td>1.0</td>\n",
              "      <td>0.028755</td>\n",
              "      <td>1.725259</td>\n",
              "    </tr>\n",
              "    <tr>\n",
              "      <th>std</th>\n",
              "      <td>0.995259</td>\n",
              "      <td>3.529967</td>\n",
              "      <td>8.622256</td>\n",
              "      <td>1.970462</td>\n",
              "      <td>6.500725</td>\n",
              "      <td>0.0</td>\n",
              "      <td>0.032211</td>\n",
              "      <td>1.932578</td>\n",
              "    </tr>\n",
              "    <tr>\n",
              "      <th>min</th>\n",
              "      <td>2020.000000</td>\n",
              "      <td>1.000000</td>\n",
              "      <td>1.000000</td>\n",
              "      <td>0.000000</td>\n",
              "      <td>0.000000</td>\n",
              "      <td>1.0</td>\n",
              "      <td>0.000000</td>\n",
              "      <td>0.000000</td>\n",
              "    </tr>\n",
              "    <tr>\n",
              "      <th>25%</th>\n",
              "      <td>2020.000000</td>\n",
              "      <td>3.000000</td>\n",
              "      <td>8.000000</td>\n",
              "      <td>1.000000</td>\n",
              "      <td>6.000000</td>\n",
              "      <td>1.0</td>\n",
              "      <td>0.001000</td>\n",
              "      <td>0.083000</td>\n",
              "    </tr>\n",
              "    <tr>\n",
              "      <th>50%</th>\n",
              "      <td>2021.000000</td>\n",
              "      <td>6.000000</td>\n",
              "      <td>16.000000</td>\n",
              "      <td>3.000000</td>\n",
              "      <td>11.000000</td>\n",
              "      <td>1.0</td>\n",
              "      <td>0.018000</td>\n",
              "      <td>1.050000</td>\n",
              "    </tr>\n",
              "    <tr>\n",
              "      <th>75%</th>\n",
              "      <td>2022.000000</td>\n",
              "      <td>9.000000</td>\n",
              "      <td>23.000000</td>\n",
              "      <td>5.000000</td>\n",
              "      <td>18.000000</td>\n",
              "      <td>1.0</td>\n",
              "      <td>0.054000</td>\n",
              "      <td>3.250000</td>\n",
              "    </tr>\n",
              "    <tr>\n",
              "      <th>max</th>\n",
              "      <td>2023.000000</td>\n",
              "      <td>12.000000</td>\n",
              "      <td>31.000000</td>\n",
              "      <td>6.000000</td>\n",
              "      <td>23.000000</td>\n",
              "      <td>1.0</td>\n",
              "      <td>0.836000</td>\n",
              "      <td>50.183000</td>\n",
              "    </tr>\n",
              "  </tbody>\n",
              "</table>\n",
              "</div>\n",
              "      <button class=\"colab-df-convert\" onclick=\"convertToInteractive('df-1c864de8-c4ef-493e-9b04-bf4312060c14')\"\n",
              "              title=\"Convert this dataframe to an interactive table.\"\n",
              "              style=\"display:none;\">\n",
              "        \n",
              "  <svg xmlns=\"http://www.w3.org/2000/svg\" height=\"24px\"viewBox=\"0 0 24 24\"\n",
              "       width=\"24px\">\n",
              "    <path d=\"M0 0h24v24H0V0z\" fill=\"none\"/>\n",
              "    <path d=\"M18.56 5.44l.94 2.06.94-2.06 2.06-.94-2.06-.94-.94-2.06-.94 2.06-2.06.94zm-11 1L8.5 8.5l.94-2.06 2.06-.94-2.06-.94L8.5 2.5l-.94 2.06-2.06.94zm10 10l.94 2.06.94-2.06 2.06-.94-2.06-.94-.94-2.06-.94 2.06-2.06.94z\"/><path d=\"M17.41 7.96l-1.37-1.37c-.4-.4-.92-.59-1.43-.59-.52 0-1.04.2-1.43.59L10.3 9.45l-7.72 7.72c-.78.78-.78 2.05 0 2.83L4 21.41c.39.39.9.59 1.41.59.51 0 1.02-.2 1.41-.59l7.78-7.78 2.81-2.81c.8-.78.8-2.07 0-2.86zM5.41 20L4 18.59l7.72-7.72 1.47 1.35L5.41 20z\"/>\n",
              "  </svg>\n",
              "      </button>\n",
              "      \n",
              "  <style>\n",
              "    .colab-df-container {\n",
              "      display:flex;\n",
              "      flex-wrap:wrap;\n",
              "      gap: 12px;\n",
              "    }\n",
              "\n",
              "    .colab-df-convert {\n",
              "      background-color: #E8F0FE;\n",
              "      border: none;\n",
              "      border-radius: 50%;\n",
              "      cursor: pointer;\n",
              "      display: none;\n",
              "      fill: #1967D2;\n",
              "      height: 32px;\n",
              "      padding: 0 0 0 0;\n",
              "      width: 32px;\n",
              "    }\n",
              "\n",
              "    .colab-df-convert:hover {\n",
              "      background-color: #E2EBFA;\n",
              "      box-shadow: 0px 1px 2px rgba(60, 64, 67, 0.3), 0px 1px 3px 1px rgba(60, 64, 67, 0.15);\n",
              "      fill: #174EA6;\n",
              "    }\n",
              "\n",
              "    [theme=dark] .colab-df-convert {\n",
              "      background-color: #3B4455;\n",
              "      fill: #D2E3FC;\n",
              "    }\n",
              "\n",
              "    [theme=dark] .colab-df-convert:hover {\n",
              "      background-color: #434B5C;\n",
              "      box-shadow: 0px 1px 3px 1px rgba(0, 0, 0, 0.15);\n",
              "      filter: drop-shadow(0px 1px 2px rgba(0, 0, 0, 0.3));\n",
              "      fill: #FFFFFF;\n",
              "    }\n",
              "  </style>\n",
              "\n",
              "      <script>\n",
              "        const buttonEl =\n",
              "          document.querySelector('#df-1c864de8-c4ef-493e-9b04-bf4312060c14 button.colab-df-convert');\n",
              "        buttonEl.style.display =\n",
              "          google.colab.kernel.accessAllowed ? 'block' : 'none';\n",
              "\n",
              "        async function convertToInteractive(key) {\n",
              "          const element = document.querySelector('#df-1c864de8-c4ef-493e-9b04-bf4312060c14');\n",
              "          const dataTable =\n",
              "            await google.colab.kernel.invokeFunction('convertToInteractive',\n",
              "                                                     [key], {});\n",
              "          if (!dataTable) return;\n",
              "\n",
              "          const docLinkHtml = 'Like what you see? Visit the ' +\n",
              "            '<a target=\"_blank\" href=https://colab.research.google.com/notebooks/data_table.ipynb>data table notebook</a>'\n",
              "            + ' to learn more about interactive tables.';\n",
              "          element.innerHTML = '';\n",
              "          dataTable['output_type'] = 'display_data';\n",
              "          await google.colab.output.renderOutput(dataTable, element);\n",
              "          const docLink = document.createElement('div');\n",
              "          docLink.innerHTML = docLinkHtml;\n",
              "          element.appendChild(docLink);\n",
              "        }\n",
              "      </script>\n",
              "    </div>\n",
              "  </div>\n",
              "  "
            ]
          },
          "metadata": {},
          "execution_count": 140
        }
      ]
    },
    {
      "cell_type": "markdown",
      "source": [
        "Now by looking the descrbe function we can say that eevery columns have exact 41389 data set that mean nothing is NULL, our data cleaning is done"
      ],
      "metadata": {
        "id": "ll7AZa4hUgYP"
      }
    },
    {
      "cell_type": "markdown",
      "source": [
        "### Now lets visualize the data set"
      ],
      "metadata": {
        "id": "EJ7affv2Uu2V"
      }
    },
    {
      "cell_type": "code",
      "source": [
        "import seaborn as sns\n",
        "import matplotlib.pyplot as plt"
      ],
      "metadata": {
        "id": "G2egYhiaUZN2"
      },
      "execution_count": 141,
      "outputs": []
    },
    {
      "cell_type": "code",
      "source": [
        "sns.set_style('darkgrid')\n",
        "plt.style.use('seaborn-darkgrid')\n",
        "\n",
        "matplotlib.rcParams['font.size'] = 10\n",
        "matplotlib.rcParams['figure.figsize'] = (9,5)\n",
        "matplotlib.rcParams['figure.facecolor'] = '00000000'\n"
      ],
      "metadata": {
        "colab": {
          "base_uri": "https://localhost:8080/"
        },
        "id": "E7O0g7NdUyok",
        "outputId": "3fde9d40-b59d-471e-e032-01b59fcaa832"
      },
      "execution_count": 142,
      "outputs": [
        {
          "output_type": "stream",
          "name": "stderr",
          "text": [
            "<ipython-input-142-6f0aa62c5e09>:2: MatplotlibDeprecationWarning: The seaborn styles shipped by Matplotlib are deprecated since 3.6, as they no longer correspond to the styles shipped by seaborn. However, they will remain available as 'seaborn-v0_8-<style>'. Alternatively, directly use the seaborn API instead.\n",
            "  plt.style.use('seaborn-darkgrid')\n"
          ]
        }
      ]
    },
    {
      "cell_type": "markdown",
      "source": [
        "## Now lets see the artist uniqueness percentage"
      ],
      "metadata": {
        "id": "uUmaoXWnV6qB"
      }
    },
    {
      "cell_type": "code",
      "source": [
        "uniq_artist = spotify_stream_df['master_metadata_album_artist_name'].nunique()\n",
        "total_artist = spotify_stream_df['master_metadata_album_artist_name'].count()\n",
        "# percentage\n",
        "uniq_art_percent = (uniq_artist/total_artist) * 100\n",
        "uniq_art_percent"
      ],
      "metadata": {
        "colab": {
          "base_uri": "https://localhost:8080/"
        },
        "id": "E3g62HAoVTvy",
        "outputId": "d90101a0-a1cc-421a-e215-b317689de646"
      },
      "execution_count": 143,
      "outputs": [
        {
          "output_type": "execute_result",
          "data": {
            "text/plain": [
              "2.6133175845267975"
            ]
          },
          "metadata": {},
          "execution_count": 143
        }
      ]
    },
    {
      "cell_type": "code",
      "source": [
        "fig,ax = plt.subplots(figsize=(12,6))\n",
        "ax.pie(np.array([uniq_artist,total_artist-uniq_artist]),labels=['Unique',\"Total-Unique\"],autopct='%1.1f%%',explode=[0.05,0.05])"
      ],
      "metadata": {
        "colab": {
          "base_uri": "https://localhost:8080/",
          "height": 603
        },
        "id": "gRiwtrCCWq6H",
        "outputId": "b010c126-8f0e-4040-9fea-003e0bdd46ac"
      },
      "execution_count": 144,
      "outputs": [
        {
          "output_type": "execute_result",
          "data": {
            "text/plain": [
              "([<matplotlib.patches.Wedge at 0x7fc36abd1cc0>,\n",
              "  <matplotlib.patches.Wedge at 0x7fc36abe7d90>],\n",
              " [Text(1.1461264602353747, 0.09430873314985444, 'Unique'),\n",
              "  Text(-1.146126461339102, -0.0943087197363412, 'Total-Unique')],\n",
              " [Text(0.6478106079591247, 0.05330493612817858, '2.6%'),\n",
              "  Text(-0.6478106085829707, -0.05330492854662762, '97.4%')])"
            ]
          },
          "metadata": {},
          "execution_count": 144
        },
        {
          "output_type": "display_data",
          "data": {
            "text/plain": [
              "<Figure size 1200x600 with 1 Axes>"
            ],
            "image/png": "[encoded data removed]"
          },
          "metadata": {}
        }
      ]
    },
    {
      "cell_type": "markdown",
      "source": [
        "## Let we find top ten artist"
      ],
      "metadata": {
        "id": "pnW0Qwi0bQOS"
      }
    },
    {
      "cell_type": "code",
      "source": [
        "top_artist = spotify_stream_df.groupby(['master_metadata_album_artist_name'])[['Listening Time(Hours)','Listening Time(Minutes)','Count']].sum().sort_values(by='Listening Time(Minutes)',ascending=False)\n",
        "top_artist.head(10)"
      ],
      "metadata": {
        "colab": {
          "base_uri": "https://localhost:8080/",
          "height": 394
        },
        "id": "ARk7TW4EYFmL",
        "outputId": "1c87aee2-4c86-4e51-906c-781871ca7374"
      },
      "execution_count": 145,
      "outputs": [
        {
          "output_type": "execute_result",
          "data": {
            "text/plain": [
              "                                   Listening Time(Hours)  \\\n",
              "master_metadata_album_artist_name                          \n",
              "The Chainsmokers                                  74.279   \n",
              "A.R. Rahman                                       71.725   \n",
              "Calvin Harris                                     56.292   \n",
              "Anirudh Ravichander                               52.776   \n",
              "Yuvan Shankar Raja                                35.305   \n",
              "Martin Garrix                                     34.727   \n",
              "Harris Jayaraj                                    30.283   \n",
              "Hiphop Tamizha                                    28.602   \n",
              "Vivek - Mervin                                    24.749   \n",
              "Pritam                                            22.814   \n",
              "\n",
              "                                   Listening Time(Minutes)  Count  \n",
              "master_metadata_album_artist_name                                  \n",
              "The Chainsmokers                                  4452.327   2448  \n",
              "A.R. Rahman                                       4301.592   1610  \n",
              "Calvin Harris                                     3375.265   1957  \n",
              "Anirudh Ravichander                               3166.078   1595  \n",
              "Yuvan Shankar Raja                                2119.520    998  \n",
              "Martin Garrix                                     2084.966   1335  \n",
              "Harris Jayaraj                                    1818.136    826  \n",
              "Hiphop Tamizha                                    1711.259    776  \n",
              "Vivek - Mervin                                    1489.636    523  \n",
              "Pritam                                            1368.699    665  "
            ],
            "text/html": [
              "\n",
              "  <div id=\"df-18c9a28d-5da6-4e2c-8a32-2a57cd01f02a\">\n",
              "    <div class=\"colab-df-container\">\n",
              "      <div>\n",
              "<style scoped>\n",
              "    .dataframe tbody tr th:only-of-type {\n",
              "        vertical-align: middle;\n",
              "    }\n",
              "\n",
              "    .dataframe tbody tr th {\n",
              "        vertical-align: top;\n",
              "    }\n",
              "\n",
              "    .dataframe thead th {\n",
              "        text-align: right;\n",
              "    }\n",
              "</style>\n",
              "<table border=\"1\" class=\"dataframe\">\n",
              "  <thead>\n",
              "    <tr style=\"text-align: right;\">\n",
              "      <th></th>\n",
              "      <th>Listening Time(Hours)</th>\n",
              "      <th>Listening Time(Minutes)</th>\n",
              "      <th>Count</th>\n",
              "    </tr>\n",
              "    <tr>\n",
              "      <th>master_metadata_album_artist_name</th>\n",
              "      <th></th>\n",
              "      <th></th>\n",
              "      <th></th>\n",
              "    </tr>\n",
              "  </thead>\n",
              "  <tbody>\n",
              "    <tr>\n",
              "      <th>The Chainsmokers</th>\n",
              "      <td>74.279</td>\n",
              "      <td>4452.327</td>\n",
              "      <td>2448</td>\n",
              "    </tr>\n",
              "    <tr>\n",
              "      <th>A.R. Rahman</th>\n",
              "      <td>71.725</td>\n",
              "      <td>4301.592</td>\n",
              "      <td>1610</td>\n",
              "    </tr>\n",
              "    <tr>\n",
              "      <th>Calvin Harris</th>\n",
              "      <td>56.292</td>\n",
              "      <td>3375.265</td>\n",
              "      <td>1957</td>\n",
              "    </tr>\n",
              "    <tr>\n",
              "      <th>Anirudh Ravichander</th>\n",
              "      <td>52.776</td>\n",
              "      <td>3166.078</td>\n",
              "      <td>1595</td>\n",
              "    </tr>\n",
              "    <tr>\n",
              "      <th>Yuvan Shankar Raja</th>\n",
              "      <td>35.305</td>\n",
              "      <td>2119.520</td>\n",
              "      <td>998</td>\n",
              "    </tr>\n",
              "    <tr>\n",
              "      <th>Martin Garrix</th>\n",
              "      <td>34.727</td>\n",
              "      <td>2084.966</td>\n",
              "      <td>1335</td>\n",
              "    </tr>\n",
              "    <tr>\n",
              "      <th>Harris Jayaraj</th>\n",
              "      <td>30.283</td>\n",
              "      <td>1818.136</td>\n",
              "      <td>826</td>\n",
              "    </tr>\n",
              "    <tr>\n",
              "      <th>Hiphop Tamizha</th>\n",
              "      <td>28.602</td>\n",
              "      <td>1711.259</td>\n",
              "      <td>776</td>\n",
              "    </tr>\n",
              "    <tr>\n",
              "      <th>Vivek - Mervin</th>\n",
              "      <td>24.749</td>\n",
              "      <td>1489.636</td>\n",
              "      <td>523</td>\n",
              "    </tr>\n",
              "    <tr>\n",
              "      <th>Pritam</th>\n",
              "      <td>22.814</td>\n",
              "      <td>1368.699</td>\n",
              "      <td>665</td>\n",
              "    </tr>\n",
              "  </tbody>\n",
              "</table>\n",
              "</div>\n",
              "      <button class=\"colab-df-convert\" onclick=\"convertToInteractive('df-18c9a28d-5da6-4e2c-8a32-2a57cd01f02a')\"\n",
              "              title=\"Convert this dataframe to an interactive table.\"\n",
              "              style=\"display:none;\">\n",
              "        \n",
              "  <svg xmlns=\"http://www.w3.org/2000/svg\" height=\"24px\"viewBox=\"0 0 24 24\"\n",
              "       width=\"24px\">\n",
              "    <path d=\"M0 0h24v24H0V0z\" fill=\"none\"/>\n",
              "    <path d=\"M18.56 5.44l.94 2.06.94-2.06 2.06-.94-2.06-.94-.94-2.06-.94 2.06-2.06.94zm-11 1L8.5 8.5l.94-2.06 2.06-.94-2.06-.94L8.5 2.5l-.94 2.06-2.06.94zm10 10l.94 2.06.94-2.06 2.06-.94-2.06-.94-.94-2.06-.94 2.06-2.06.94z\"/><path d=\"M17.41 7.96l-1.37-1.37c-.4-.4-.92-.59-1.43-.59-.52 0-1.04.2-1.43.59L10.3 9.45l-7.72 7.72c-.78.78-.78 2.05 0 2.83L4 21.41c.39.39.9.59 1.41.59.51 0 1.02-.2 1.41-.59l7.78-7.78 2.81-2.81c.8-.78.8-2.07 0-2.86zM5.41 20L4 18.59l7.72-7.72 1.47 1.35L5.41 20z\"/>\n",
              "  </svg>\n",
              "      </button>\n",
              "      \n",
              "  <style>\n",
              "    .colab-df-container {\n",
              "      display:flex;\n",
              "      flex-wrap:wrap;\n",
              "      gap: 12px;\n",
              "    }\n",
              "\n",
              "    .colab-df-convert {\n",
              "      background-color: #E8F0FE;\n",
              "      border: none;\n",
              "      border-radius: 50%;\n",
              "      cursor: pointer;\n",
              "      display: none;\n",
              "      fill: #1967D2;\n",
              "      height: 32px;\n",
              "      padding: 0 0 0 0;\n",
              "      width: 32px;\n",
              "    }\n",
              "\n",
              "    .colab-df-convert:hover {\n",
              "      background-color: #E2EBFA;\n",
              "      box-shadow: 0px 1px 2px rgba(60, 64, 67, 0.3), 0px 1px 3px 1px rgba(60, 64, 67, 0.15);\n",
              "      fill: #174EA6;\n",
              "    }\n",
              "\n",
              "    [theme=dark] .colab-df-convert {\n",
              "      background-color: #3B4455;\n",
              "      fill: #D2E3FC;\n",
              "    }\n",
              "\n",
              "    [theme=dark] .colab-df-convert:hover {\n",
              "      background-color: #434B5C;\n",
              "      box-shadow: 0px 1px 3px 1px rgba(0, 0, 0, 0.15);\n",
              "      filter: drop-shadow(0px 1px 2px rgba(0, 0, 0, 0.3));\n",
              "      fill: #FFFFFF;\n",
              "    }\n",
              "  </style>\n",
              "\n",
              "      <script>\n",
              "        const buttonEl =\n",
              "          document.querySelector('#df-18c9a28d-5da6-4e2c-8a32-2a57cd01f02a button.colab-df-convert');\n",
              "        buttonEl.style.display =\n",
              "          google.colab.kernel.accessAllowed ? 'block' : 'none';\n",
              "\n",
              "        async function convertToInteractive(key) {\n",
              "          const element = document.querySelector('#df-18c9a28d-5da6-4e2c-8a32-2a57cd01f02a');\n",
              "          const dataTable =\n",
              "            await google.colab.kernel.invokeFunction('convertToInteractive',\n",
              "                                                     [key], {});\n",
              "          if (!dataTable) return;\n",
              "\n",
              "          const docLinkHtml = 'Like what you see? Visit the ' +\n",
              "            '<a target=\"_blank\" href=https://colab.research.google.com/notebooks/data_table.ipynb>data table notebook</a>'\n",
              "            + ' to learn more about interactive tables.';\n",
              "          element.innerHTML = '';\n",
              "          dataTable['output_type'] = 'display_data';\n",
              "          await google.colab.output.renderOutput(dataTable, element);\n",
              "          const docLink = document.createElement('div');\n",
              "          docLink.innerHTML = docLinkHtml;\n",
              "          element.appendChild(docLink);\n",
              "        }\n",
              "      </script>\n",
              "    </div>\n",
              "  </div>\n",
              "  "
            ]
          },
          "metadata": {},
          "execution_count": 145
        }
      ]
    },
    {
      "cell_type": "code",
      "source": [
        "fig,ax = plt.subplots(figsize=(12,8))\n",
        "ax.bar(top_artist.head(10).index,top_artist['Listening Time(Hours)'].head(10))\n",
        "plt.xticks(rotation=60)\n",
        "ax.set(xlabel='Artists name',ylabel='No of hours')"
      ],
      "metadata": {
        "colab": {
          "base_uri": "https://localhost:8080/",
          "height": 814
        },
        "id": "uFFeedH3Zj3Q",
        "outputId": "4634beb1-15d8-4d69-af22-6eb30f3719a2"
      },
      "execution_count": 146,
      "outputs": [
        {
          "output_type": "execute_result",
          "data": {
            "text/plain": [
              "[Text(0.5, 0, 'Artists name'), Text(0, 0.5, 'No of hours')]"
            ]
          },
          "metadata": {},
          "execution_count": 146
        },
        {
          "output_type": "display_data",
          "data": {
            "text/plain": [
              "<Figure size 1200x800 with 1 Axes>"
            ],
            "image/png": "[encoded data removed]"
          },
          "metadata": {
            "needs_background": "light"
          }
        }
      ]
    },
    {
      "cell_type": "markdown",
      "source": [
        "## Percentage of number of unique songs"
      ],
      "metadata": {
        "id": "um5gzsbzcdaI"
      }
    },
    {
      "cell_type": "code",
      "source": [
        "unique_songs = spotify_stream_df[\"master_metadata_track_name\"].nunique()\n",
        "total_songs = spotify_stream_df[\"master_metadata_track_name\"].count()\n",
        "unique_songs_percentage = unique_songs/total_songs*100\n",
        "unique_songs_percentage"
      ],
      "metadata": {
        "colab": {
          "base_uri": "https://localhost:8080/"
        },
        "id": "MK4RBh3lbft9",
        "outputId": "44c7fdfe-133f-40d4-e362-20c5f1901460"
      },
      "execution_count": 147,
      "outputs": [
        {
          "output_type": "execute_result",
          "data": {
            "text/plain": [
              "6.358580638810965"
            ]
          },
          "metadata": {},
          "execution_count": 147
        }
      ]
    },
    {
      "cell_type": "code",
      "source": [
        "fig, ax = plt.subplots(figsize=(12,6))\n",
        "ax.pie(np.array([unique_songs, total_songs-unique_songs]), labels= [\" Unique Songs\", \"Non Unique Songs\"], autopct='%1.1f%%', explode=[0.05,0.05]);\n",
        "plt.title(\"Unique Songs Percentage\");"
      ],
      "metadata": {
        "colab": {
          "base_uri": "https://localhost:8080/",
          "height": 519
        },
        "id": "TvmB-1SQchvA",
        "outputId": "531ab230-f14b-4c3c-f12a-ba9c274dd5c4"
      },
      "execution_count": 148,
      "outputs": [
        {
          "output_type": "display_data",
          "data": {
            "text/plain": [
              "<Figure size 1200x600 with 1 Axes>"
            ],
            "image/png": "[encoded data removed]"
          },
          "metadata": {}
        }
      ]
    },
    {
      "cell_type": "markdown",
      "source": [
        "## Day Wise Usage"
      ],
      "metadata": {
        "id": "LMURn76ndal2"
      }
    },
    {
      "cell_type": "code",
      "source": [
        "import matplotlib.cm as cm\n",
        "\n",
        "\n",
        "day_name_counts = spotify_stream_df[\"day-name\"].value_counts()\n",
        "fig = plt.figure(figsize=(8,6))\n",
        "ax = fig.add_subplot(111)\n",
        "colors = cm.Blues(np.linspace(0.9,0.2,len(day_name_counts)))\n",
        "max_index = day_name_counts.argmax()\n",
        "explode= [0] * len(day_name_counts)\n",
        "explode[max_index] = 0.1\n",
        "ax.pie(day_name_counts, labels=day_name_counts.index, colors=colors, autopct='%1.1f%%', startangle=-90,\n",
        "       textprops={'fontsize': 10}, explode=explode,counterclock=False)\n",
        "\n",
        "ax.set_title('Day wise % of Spotify Streaming', pad=20, fontdict={'color': 'black', 'weight': 'normal', 'size': 16})\n",
        "ax.axis('equal')\n",
        "\n",
        "plt.show()"
      ],
      "metadata": {
        "colab": {
          "base_uri": "https://localhost:8080/",
          "height": 542
        },
        "id": "aguDeBRSjb1n",
        "outputId": "28f1c857-268e-4556-cfc6-664f7c1499fb"
      },
      "execution_count": 149,
      "outputs": [
        {
          "output_type": "display_data",
          "data": {
            "text/plain": [
              "<Figure size 800x600 with 1 Axes>"
            ],
            "image/png": "[encoded data removed]"
          },
          "metadata": {}
        }
      ]
    },
    {
      "cell_type": "markdown",
      "source": [],
      "metadata": {
        "id": "S-SenqTQzm5L"
      }
    },
    {
      "cell_type": "markdown",
      "source": [
        "## Average usage over a day"
      ],
      "metadata": {
        "id": "u-TLu1p1l3aJ"
      }
    },
    {
      "cell_type": "code",
      "source": [
        "fig, ax = plt.subplots(figsize=(12,8))\n",
        "ax.set(title=\"Average Distribution of Streaming Over Day Hours\",xlabel=\"Hours (in 24 hour format)\", ylabel=\"Songs Played\")\n",
        "sns.histplot(spotify_stream_df[\"hours\"], bins=24,kde=True, color=\"darkgreen\");"
      ],
      "metadata": {
        "colab": {
          "base_uri": "https://localhost:8080/",
          "height": 711
        },
        "id": "Zqg3lnbIj_hj",
        "outputId": "ff380522-2859-4f19-b294-2704c1bc586a"
      },
      "execution_count": 150,
      "outputs": [
        {
          "output_type": "display_data",
          "data": {
            "text/plain": [
              "<Figure size 1200x800 with 1 Axes>"
            ],
            "image/png": "[encoded data removed]"
          },
          "metadata": {
            "needs_background": "light"
          }
        }
      ]
    },
    {
      "cell_type": "markdown",
      "source": [
        "We can see that Maximum songs played aroound 5-6 Pm hour mark and minimum at 1-2 Am mark"
      ],
      "metadata": {
        "id": "RwYrt_4BzWs7"
      }
    },
    {
      "cell_type": "markdown",
      "source": [],
      "metadata": {
        "id": "8ks36RcPztRQ"
      }
    },
    {
      "cell_type": "markdown",
      "source": [
        "## Average Usage in year with countplot"
      ],
      "metadata": {
        "id": "hQqMmbCSzto1"
      }
    },
    {
      "cell_type": "code",
      "source": [
        "fig, ax = plt.subplots(figsize=(12,6))\n",
        "\n",
        "ax = sns.countplot(y=spotify_stream_df[\"month\"], ax=ax)\n",
        "ax.set(title=\"Average Spotify Usage over Years\", xlabel=\"Songs Played in Counts\", ylabel=\"Months (1-12)\");"
      ],
      "metadata": {
        "colab": {
          "base_uri": "https://localhost:8080/",
          "height": 557
        },
        "id": "k_oM_Vnzl_U1",
        "outputId": "6d9cd827-ff2c-4cbe-9f42-caf283bf527f"
      },
      "execution_count": 151,
      "outputs": [
        {
          "output_type": "display_data",
          "data": {
            "text/plain": [
              "<Figure size 1200x600 with 1 Axes>"
            ],
            "image/png": "[encoded data removed]"
          },
          "metadata": {
            "needs_background": "light"
          }
        }
      ]
    },
    {
      "cell_type": "markdown",
      "source": [
        "Hours Spent on Spotify Since Signed up"
      ],
      "metadata": {
        "id": "-4ZUPcUE-dMr"
      }
    },
    {
      "cell_type": "code",
      "source": [
        "time_spent_hours = spotify_stream_df[\"Listening Time(Hours)\"].sum()\n",
        "time_spent_hours"
      ],
      "metadata": {
        "colab": {
          "base_uri": "https://localhost:8080/"
        },
        "id": "2M6OTha7n1v1",
        "outputId": "0f836049-355b-40a6-96dd-6c6879e7abd2"
      },
      "execution_count": 152,
      "outputs": [
        {
          "output_type": "execute_result",
          "data": {
            "text/plain": [
              "1190.1299999999999"
            ]
          },
          "metadata": {},
          "execution_count": 152
        }
      ]
    },
    {
      "cell_type": "code",
      "source": [
        ""
      ],
      "metadata": {
        "id": "wgoNME46qRik"
      },
      "execution_count": 152,
      "outputs": []
    },
    {
      "cell_type": "markdown",
      "source": [
        "On which Day User played maximum number of songs"
      ],
      "metadata": {
        "id": "yu3CMmmj_yN_"
      }
    },
    {
      "cell_type": "markdown",
      "source": [
        "Creating a new column with date"
      ],
      "metadata": {
        "id": "T8RB-YeR__PU"
      }
    },
    {
      "cell_type": "code",
      "source": [
        "spotify_stream_df[\"date\"] = spotify_stream_df[\"Play-Time\"].dt.date"
      ],
      "metadata": {
        "colab": {
          "base_uri": "https://localhost:8080/"
        },
        "id": "opu3WfTfqUl8",
        "outputId": "726b37d7-9ce7-4ed3-f30a-6f54cf206cf5"
      },
      "execution_count": 153,
      "outputs": [
        {
          "output_type": "stream",
          "name": "stderr",
          "text": [
            "<ipython-input-153-6ccd7e5c529a>:1: SettingWithCopyWarning: \n",
            "A value is trying to be set on a copy of a slice from a DataFrame.\n",
            "Try using .loc[row_indexer,col_indexer] = value instead\n",
            "\n",
            "See the caveats in the documentation: https://pandas.pydata.org/pandas-docs/stable/user_guide/indexing.html#returning-a-view-versus-a-copy\n",
            "  spotify_stream_df[\"date\"] = spotify_stream_df[\"Play-Time\"].dt.date\n"
          ]
        }
      ]
    },
    {
      "cell_type": "code",
      "source": [
        "most_songs = spotify_stream_df.groupby([\"date\"])[[\"Count\"]].sum().sort_values(by=\"Count\", ascending=False)\n",
        "most_songs.head(1)"
      ],
      "metadata": {
        "colab": {
          "base_uri": "https://localhost:8080/",
          "height": 112
        },
        "id": "uUr5n8YCqYvW",
        "outputId": "8fba64fb-cad6-402a-b67b-70ce2d33b4d5"
      },
      "execution_count": 154,
      "outputs": [
        {
          "output_type": "execute_result",
          "data": {
            "text/plain": [
              "            Count\n",
              "date             \n",
              "2020-02-24    466"
            ],
            "text/html": [
              "\n",
              "  <div id=\"df-937dabaf-ef88-4caf-a553-50eccb7a7f8c\">\n",
              "    <div class=\"colab-df-container\">\n",
              "      <div>\n",
              "<style scoped>\n",
              "    .dataframe tbody tr th:only-of-type {\n",
              "        vertical-align: middle;\n",
              "    }\n",
              "\n",
              "    .dataframe tbody tr th {\n",
              "        vertical-align: top;\n",
              "    }\n",
              "\n",
              "    .dataframe thead th {\n",
              "        text-align: right;\n",
              "    }\n",
              "</style>\n",
              "<table border=\"1\" class=\"dataframe\">\n",
              "  <thead>\n",
              "    <tr style=\"text-align: right;\">\n",
              "      <th></th>\n",
              "      <th>Count</th>\n",
              "    </tr>\n",
              "    <tr>\n",
              "      <th>date</th>\n",
              "      <th></th>\n",
              "    </tr>\n",
              "  </thead>\n",
              "  <tbody>\n",
              "    <tr>\n",
              "      <th>2020-02-24</th>\n",
              "      <td>466</td>\n",
              "    </tr>\n",
              "  </tbody>\n",
              "</table>\n",
              "</div>\n",
              "      <button class=\"colab-df-convert\" onclick=\"convertToInteractive('df-937dabaf-ef88-4caf-a553-50eccb7a7f8c')\"\n",
              "              title=\"Convert this dataframe to an interactive table.\"\n",
              "              style=\"display:none;\">\n",
              "        \n",
              "  <svg xmlns=\"http://www.w3.org/2000/svg\" height=\"24px\"viewBox=\"0 0 24 24\"\n",
              "       width=\"24px\">\n",
              "    <path d=\"M0 0h24v24H0V0z\" fill=\"none\"/>\n",
              "    <path d=\"M18.56 5.44l.94 2.06.94-2.06 2.06-.94-2.06-.94-.94-2.06-.94 2.06-2.06.94zm-11 1L8.5 8.5l.94-2.06 2.06-.94-2.06-.94L8.5 2.5l-.94 2.06-2.06.94zm10 10l.94 2.06.94-2.06 2.06-.94-2.06-.94-.94-2.06-.94 2.06-2.06.94z\"/><path d=\"M17.41 7.96l-1.37-1.37c-.4-.4-.92-.59-1.43-.59-.52 0-1.04.2-1.43.59L10.3 9.45l-7.72 7.72c-.78.78-.78 2.05 0 2.83L4 21.41c.39.39.9.59 1.41.59.51 0 1.02-.2 1.41-.59l7.78-7.78 2.81-2.81c.8-.78.8-2.07 0-2.86zM5.41 20L4 18.59l7.72-7.72 1.47 1.35L5.41 20z\"/>\n",
              "  </svg>\n",
              "      </button>\n",
              "      \n",
              "  <style>\n",
              "    .colab-df-container {\n",
              "      display:flex;\n",
              "      flex-wrap:wrap;\n",
              "      gap: 12px;\n",
              "    }\n",
              "\n",
              "    .colab-df-convert {\n",
              "      background-color: #E8F0FE;\n",
              "      border: none;\n",
              "      border-radius: 50%;\n",
              "      cursor: pointer;\n",
              "      display: none;\n",
              "      fill: #1967D2;\n",
              "      height: 32px;\n",
              "      padding: 0 0 0 0;\n",
              "      width: 32px;\n",
              "    }\n",
              "\n",
              "    .colab-df-convert:hover {\n",
              "      background-color: #E2EBFA;\n",
              "      box-shadow: 0px 1px 2px rgba(60, 64, 67, 0.3), 0px 1px 3px 1px rgba(60, 64, 67, 0.15);\n",
              "      fill: #174EA6;\n",
              "    }\n",
              "\n",
              "    [theme=dark] .colab-df-convert {\n",
              "      background-color: #3B4455;\n",
              "      fill: #D2E3FC;\n",
              "    }\n",
              "\n",
              "    [theme=dark] .colab-df-convert:hover {\n",
              "      background-color: #434B5C;\n",
              "      box-shadow: 0px 1px 3px 1px rgba(0, 0, 0, 0.15);\n",
              "      filter: drop-shadow(0px 1px 2px rgba(0, 0, 0, 0.3));\n",
              "      fill: #FFFFFF;\n",
              "    }\n",
              "  </style>\n",
              "\n",
              "      <script>\n",
              "        const buttonEl =\n",
              "          document.querySelector('#df-937dabaf-ef88-4caf-a553-50eccb7a7f8c button.colab-df-convert');\n",
              "        buttonEl.style.display =\n",
              "          google.colab.kernel.accessAllowed ? 'block' : 'none';\n",
              "\n",
              "        async function convertToInteractive(key) {\n",
              "          const element = document.querySelector('#df-937dabaf-ef88-4caf-a553-50eccb7a7f8c');\n",
              "          const dataTable =\n",
              "            await google.colab.kernel.invokeFunction('convertToInteractive',\n",
              "                                                     [key], {});\n",
              "          if (!dataTable) return;\n",
              "\n",
              "          const docLinkHtml = 'Like what you see? Visit the ' +\n",
              "            '<a target=\"_blank\" href=https://colab.research.google.com/notebooks/data_table.ipynb>data table notebook</a>'\n",
              "            + ' to learn more about interactive tables.';\n",
              "          element.innerHTML = '';\n",
              "          dataTable['output_type'] = 'display_data';\n",
              "          await google.colab.output.renderOutput(dataTable, element);\n",
              "          const docLink = document.createElement('div');\n",
              "          docLink.innerHTML = docLinkHtml;\n",
              "          element.appendChild(docLink);\n",
              "        }\n",
              "      </script>\n",
              "    </div>\n",
              "  </div>\n",
              "  "
            ]
          },
          "metadata": {},
          "execution_count": 154
        }
      ]
    },
    {
      "cell_type": "markdown",
      "source": [
        "## We can see date on which maximum songs played"
      ],
      "metadata": {
        "id": "az9K1aN-AOQe"
      }
    },
    {
      "cell_type": "code",
      "source": [
        "fig,ax = plt.subplots(figsize=(15,8))\n",
        "ax.scatter(most_songs.index,most_songs[\"Count\"]);\n",
        "ax.set(title=\"Maximum number of songs played in a day\",xlabel=\"Date\",ylabel=\"Count\");\n",
        "ax.axhline(most_songs[\"Count\"].mean(), linestyle=\"-\", color=\"r\");"
      ],
      "metadata": {
        "colab": {
          "base_uri": "https://localhost:8080/",
          "height": 711
        },
        "id": "rvR4pvNDqfFH",
        "outputId": "b2d9fe27-1e81-4d68-beb7-d3c6b49d792c"
      },
      "execution_count": 155,
      "outputs": [
        {
          "output_type": "display_data",
          "data": {
            "text/plain": [
              "<Figure size 1500x800 with 1 Axes>"
            ],
            "image/png": "[encoded data removed]"
          },
          "metadata": {
            "needs_background": "light"
          }
        }
      ]
    },
    {
      "cell_type": "markdown",
      "source": [
        "## Favoirate 100 artist"
      ],
      "metadata": {
        "id": "3rR-lDc8BYvm"
      }
    },
    {
      "cell_type": "code",
      "source": [
        "fav_artist = spotify_stream_df.groupby([\"master_metadata_album_artist_name\"])[\"Count\"].count()\n",
        "fav_artist.sort_values(ascending=False).head(100)"
      ],
      "metadata": {
        "colab": {
          "base_uri": "https://localhost:8080/"
        },
        "id": "RWIFyxFpqnHd",
        "outputId": "3a114568-4961-4856-cd8e-d4bac2e31d7a"
      },
      "execution_count": 156,
      "outputs": [
        {
          "output_type": "execute_result",
          "data": {
            "text/plain": [
              "master_metadata_album_artist_name\n",
              "The Chainsmokers       2448\n",
              "Calvin Harris          1957\n",
              "A.R. Rahman            1610\n",
              "Anirudh Ravichander    1595\n",
              "Martin Garrix          1335\n",
              "                       ... \n",
              "Maddix                   87\n",
              "Clean Bandit             86\n",
              "DJ Khaled                84\n",
              "Glass Animals            84\n",
              "Akhil                    83\n",
              "Name: Count, Length: 100, dtype: int64"
            ]
          },
          "metadata": {},
          "execution_count": 156
        }
      ]
    },
    {
      "cell_type": "code",
      "source": [
        ""
      ],
      "metadata": {
        "id": "6_QgQP5eqrsf"
      },
      "execution_count": 156,
      "outputs": []
    },
    {
      "cell_type": "markdown",
      "source": [
        "## Favoirae artist playlist based on count of songs"
      ],
      "metadata": {
        "id": "esoHYRajBh5p"
      }
    },
    {
      "cell_type": "code",
      "source": [
        "my_fav_artist_playlist = spotify_stream_df.groupby([\"master_metadata_album_artist_name\",\"master_metadata_track_name\"])[[\"Count\"]].count().sort_values(by=\"Count\",ascending=False).head(100)\n",
        "my_fav_artist_playlist"
      ],
      "metadata": {
        "colab": {
          "base_uri": "https://localhost:8080/",
          "height": 455
        },
        "id": "Fn-ehK4Yqunh",
        "outputId": "64608e98-0d67-434d-bffd-ee31382a5f9b"
      },
      "execution_count": 157,
      "outputs": [
        {
          "output_type": "execute_result",
          "data": {
            "text/plain": [
              "                                                              Count\n",
              "master_metadata_album_artist_name master_metadata_track_name       \n",
              "Vivek - Mervin                    Orasaadha - Madras Gig        510\n",
              "Anirudh Ravichander               Sirikkadhey                   467\n",
              "Calvin Harris                     I'm Not Alone - 2019 Edit     360\n",
              "Hiphop Tamizha                    Azhage                        345\n",
              "The Chainsmokers                  Closer                        342\n",
              "...                                                             ...\n",
              "Naresh Iyer                       Valayapatti                    91\n",
              "Alec Benjamin                     Let Me Down Slowly             91\n",
              "Yo Yo Honey Singh                 Brown Rang                     90\n",
              "Lil Wayne                         Lollipop                       89\n",
              "King                              Tu Aake Dekhle                 89\n",
              "\n",
              "[100 rows x 1 columns]"
            ],
            "text/html": [
              "\n",
              "  <div id=\"df-395c745d-a74c-4d0d-bddf-0cf9038f678c\">\n",
              "    <div class=\"colab-df-container\">\n",
              "      <div>\n",
              "<style scoped>\n",
              "    .dataframe tbody tr th:only-of-type {\n",
              "        vertical-align: middle;\n",
              "    }\n",
              "\n",
              "    .dataframe tbody tr th {\n",
              "        vertical-align: top;\n",
              "    }\n",
              "\n",
              "    .dataframe thead th {\n",
              "        text-align: right;\n",
              "    }\n",
              "</style>\n",
              "<table border=\"1\" class=\"dataframe\">\n",
              "  <thead>\n",
              "    <tr style=\"text-align: right;\">\n",
              "      <th></th>\n",
              "      <th></th>\n",
              "      <th>Count</th>\n",
              "    </tr>\n",
              "    <tr>\n",
              "      <th>master_metadata_album_artist_name</th>\n",
              "      <th>master_metadata_track_name</th>\n",
              "      <th></th>\n",
              "    </tr>\n",
              "  </thead>\n",
              "  <tbody>\n",
              "    <tr>\n",
              "      <th>Vivek - Mervin</th>\n",
              "      <th>Orasaadha - Madras Gig</th>\n",
              "      <td>510</td>\n",
              "    </tr>\n",
              "    <tr>\n",
              "      <th>Anirudh Ravichander</th>\n",
              "      <th>Sirikkadhey</th>\n",
              "      <td>467</td>\n",
              "    </tr>\n",
              "    <tr>\n",
              "      <th>Calvin Harris</th>\n",
              "      <th>I'm Not Alone - 2019 Edit</th>\n",
              "      <td>360</td>\n",
              "    </tr>\n",
              "    <tr>\n",
              "      <th>Hiphop Tamizha</th>\n",
              "      <th>Azhage</th>\n",
              "      <td>345</td>\n",
              "    </tr>\n",
              "    <tr>\n",
              "      <th>The Chainsmokers</th>\n",
              "      <th>Closer</th>\n",
              "      <td>342</td>\n",
              "    </tr>\n",
              "    <tr>\n",
              "      <th>...</th>\n",
              "      <th>...</th>\n",
              "      <td>...</td>\n",
              "    </tr>\n",
              "    <tr>\n",
              "      <th>Naresh Iyer</th>\n",
              "      <th>Valayapatti</th>\n",
              "      <td>91</td>\n",
              "    </tr>\n",
              "    <tr>\n",
              "      <th>Alec Benjamin</th>\n",
              "      <th>Let Me Down Slowly</th>\n",
              "      <td>91</td>\n",
              "    </tr>\n",
              "    <tr>\n",
              "      <th>Yo Yo Honey Singh</th>\n",
              "      <th>Brown Rang</th>\n",
              "      <td>90</td>\n",
              "    </tr>\n",
              "    <tr>\n",
              "      <th>Lil Wayne</th>\n",
              "      <th>Lollipop</th>\n",
              "      <td>89</td>\n",
              "    </tr>\n",
              "    <tr>\n",
              "      <th>King</th>\n",
              "      <th>Tu Aake Dekhle</th>\n",
              "      <td>89</td>\n",
              "    </tr>\n",
              "  </tbody>\n",
              "</table>\n",
              "<p>100 rows × 1 columns</p>\n",
              "</div>\n",
              "      <button class=\"colab-df-convert\" onclick=\"convertToInteractive('df-395c745d-a74c-4d0d-bddf-0cf9038f678c')\"\n",
              "              title=\"Convert this dataframe to an interactive table.\"\n",
              "              style=\"display:none;\">\n",
              "        \n",
              "  <svg xmlns=\"http://www.w3.org/2000/svg\" height=\"24px\"viewBox=\"0 0 24 24\"\n",
              "       width=\"24px\">\n",
              "    <path d=\"M0 0h24v24H0V0z\" fill=\"none\"/>\n",
              "    <path d=\"M18.56 5.44l.94 2.06.94-2.06 2.06-.94-2.06-.94-.94-2.06-.94 2.06-2.06.94zm-11 1L8.5 8.5l.94-2.06 2.06-.94-2.06-.94L8.5 2.5l-.94 2.06-2.06.94zm10 10l.94 2.06.94-2.06 2.06-.94-2.06-.94-.94-2.06-.94 2.06-2.06.94z\"/><path d=\"M17.41 7.96l-1.37-1.37c-.4-.4-.92-.59-1.43-.59-.52 0-1.04.2-1.43.59L10.3 9.45l-7.72 7.72c-.78.78-.78 2.05 0 2.83L4 21.41c.39.39.9.59 1.41.59.51 0 1.02-.2 1.41-.59l7.78-7.78 2.81-2.81c.8-.78.8-2.07 0-2.86zM5.41 20L4 18.59l7.72-7.72 1.47 1.35L5.41 20z\"/>\n",
              "  </svg>\n",
              "      </button>\n",
              "      \n",
              "  <style>\n",
              "    .colab-df-container {\n",
              "      display:flex;\n",
              "      flex-wrap:wrap;\n",
              "      gap: 12px;\n",
              "    }\n",
              "\n",
              "    .colab-df-convert {\n",
              "      background-color: #E8F0FE;\n",
              "      border: none;\n",
              "      border-radius: 50%;\n",
              "      cursor: pointer;\n",
              "      display: none;\n",
              "      fill: #1967D2;\n",
              "      height: 32px;\n",
              "      padding: 0 0 0 0;\n",
              "      width: 32px;\n",
              "    }\n",
              "\n",
              "    .colab-df-convert:hover {\n",
              "      background-color: #E2EBFA;\n",
              "      box-shadow: 0px 1px 2px rgba(60, 64, 67, 0.3), 0px 1px 3px 1px rgba(60, 64, 67, 0.15);\n",
              "      fill: #174EA6;\n",
              "    }\n",
              "\n",
              "    [theme=dark] .colab-df-convert {\n",
              "      background-color: #3B4455;\n",
              "      fill: #D2E3FC;\n",
              "    }\n",
              "\n",
              "    [theme=dark] .colab-df-convert:hover {\n",
              "      background-color: #434B5C;\n",
              "      box-shadow: 0px 1px 3px 1px rgba(0, 0, 0, 0.15);\n",
              "      filter: drop-shadow(0px 1px 2px rgba(0, 0, 0, 0.3));\n",
              "      fill: #FFFFFF;\n",
              "    }\n",
              "  </style>\n",
              "\n",
              "      <script>\n",
              "        const buttonEl =\n",
              "          document.querySelector('#df-395c745d-a74c-4d0d-bddf-0cf9038f678c button.colab-df-convert');\n",
              "        buttonEl.style.display =\n",
              "          google.colab.kernel.accessAllowed ? 'block' : 'none';\n",
              "\n",
              "        async function convertToInteractive(key) {\n",
              "          const element = document.querySelector('#df-395c745d-a74c-4d0d-bddf-0cf9038f678c');\n",
              "          const dataTable =\n",
              "            await google.colab.kernel.invokeFunction('convertToInteractive',\n",
              "                                                     [key], {});\n",
              "          if (!dataTable) return;\n",
              "\n",
              "          const docLinkHtml = 'Like what you see? Visit the ' +\n",
              "            '<a target=\"_blank\" href=https://colab.research.google.com/notebooks/data_table.ipynb>data table notebook</a>'\n",
              "            + ' to learn more about interactive tables.';\n",
              "          element.innerHTML = '';\n",
              "          dataTable['output_type'] = 'display_data';\n",
              "          await google.colab.output.renderOutput(dataTable, element);\n",
              "          const docLink = document.createElement('div');\n",
              "          docLink.innerHTML = docLinkHtml;\n",
              "          element.appendChild(docLink);\n",
              "        }\n",
              "      </script>\n",
              "    </div>\n",
              "  </div>\n",
              "  "
            ]
          },
          "metadata": {},
          "execution_count": 157
        }
      ]
    },
    {
      "cell_type": "markdown",
      "source": [
        "Most Usage(Active Usage in a day )"
      ],
      "metadata": {
        "id": "ezTKezHSCBN5"
      }
    },
    {
      "cell_type": "code",
      "source": [
        "active_usage = spotify_stream_df.groupby(['hours', 'day-name'])['master_metadata_album_artist_name'].size().reset_index()\n",
        "active_usage_pivot = active_usage.pivot(\"hours\", 'day-name', 'master_metadata_album_artist_name')\n",
        "active_usage_pivot.head()"
      ],
      "metadata": {
        "colab": {
          "base_uri": "https://localhost:8080/",
          "height": 272
        },
        "id": "POrbC6wNq7h-",
        "outputId": "4f2ae6f8-a1f0-4776-c8d6-fdd747503107"
      },
      "execution_count": 158,
      "outputs": [
        {
          "output_type": "stream",
          "name": "stderr",
          "text": [
            "<ipython-input-158-cace104e1787>:2: FutureWarning: In a future version of pandas all arguments of DataFrame.pivot will be keyword-only.\n",
            "  active_usage_pivot = active_usage.pivot(\"hours\", 'day-name', 'master_metadata_album_artist_name')\n"
          ]
        },
        {
          "output_type": "execute_result",
          "data": {
            "text/plain": [
              "day-name  Friday  Monday  Saturday  Sunday  Thursday  Tuesday  Wednesday\n",
              "hours                                                                   \n",
              "0            214      75       269      92        90      166        255\n",
              "1            109      38       210     220        89       92         47\n",
              "2            306     426       269     114       395      349        344\n",
              "3            129     373       132      55       177      209        252\n",
              "4            201     536       151     137       253      272        383"
            ],
            "text/html": [
              "\n",
              "  <div id=\"df-2b82c1fd-37b6-414b-8884-22e879088cff\">\n",
              "    <div class=\"colab-df-container\">\n",
              "      <div>\n",
              "<style scoped>\n",
              "    .dataframe tbody tr th:only-of-type {\n",
              "        vertical-align: middle;\n",
              "    }\n",
              "\n",
              "    .dataframe tbody tr th {\n",
              "        vertical-align: top;\n",
              "    }\n",
              "\n",
              "    .dataframe thead th {\n",
              "        text-align: right;\n",
              "    }\n",
              "</style>\n",
              "<table border=\"1\" class=\"dataframe\">\n",
              "  <thead>\n",
              "    <tr style=\"text-align: right;\">\n",
              "      <th>day-name</th>\n",
              "      <th>Friday</th>\n",
              "      <th>Monday</th>\n",
              "      <th>Saturday</th>\n",
              "      <th>Sunday</th>\n",
              "      <th>Thursday</th>\n",
              "      <th>Tuesday</th>\n",
              "      <th>Wednesday</th>\n",
              "    </tr>\n",
              "    <tr>\n",
              "      <th>hours</th>\n",
              "      <th></th>\n",
              "      <th></th>\n",
              "      <th></th>\n",
              "      <th></th>\n",
              "      <th></th>\n",
              "      <th></th>\n",
              "      <th></th>\n",
              "    </tr>\n",
              "  </thead>\n",
              "  <tbody>\n",
              "    <tr>\n",
              "      <th>0</th>\n",
              "      <td>214</td>\n",
              "      <td>75</td>\n",
              "      <td>269</td>\n",
              "      <td>92</td>\n",
              "      <td>90</td>\n",
              "      <td>166</td>\n",
              "      <td>255</td>\n",
              "    </tr>\n",
              "    <tr>\n",
              "      <th>1</th>\n",
              "      <td>109</td>\n",
              "      <td>38</td>\n",
              "      <td>210</td>\n",
              "      <td>220</td>\n",
              "      <td>89</td>\n",
              "      <td>92</td>\n",
              "      <td>47</td>\n",
              "    </tr>\n",
              "    <tr>\n",
              "      <th>2</th>\n",
              "      <td>306</td>\n",
              "      <td>426</td>\n",
              "      <td>269</td>\n",
              "      <td>114</td>\n",
              "      <td>395</td>\n",
              "      <td>349</td>\n",
              "      <td>344</td>\n",
              "    </tr>\n",
              "    <tr>\n",
              "      <th>3</th>\n",
              "      <td>129</td>\n",
              "      <td>373</td>\n",
              "      <td>132</td>\n",
              "      <td>55</td>\n",
              "      <td>177</td>\n",
              "      <td>209</td>\n",
              "      <td>252</td>\n",
              "    </tr>\n",
              "    <tr>\n",
              "      <th>4</th>\n",
              "      <td>201</td>\n",
              "      <td>536</td>\n",
              "      <td>151</td>\n",
              "      <td>137</td>\n",
              "      <td>253</td>\n",
              "      <td>272</td>\n",
              "      <td>383</td>\n",
              "    </tr>\n",
              "  </tbody>\n",
              "</table>\n",
              "</div>\n",
              "      <button class=\"colab-df-convert\" onclick=\"convertToInteractive('df-2b82c1fd-37b6-414b-8884-22e879088cff')\"\n",
              "              title=\"Convert this dataframe to an interactive table.\"\n",
              "              style=\"display:none;\">\n",
              "        \n",
              "  <svg xmlns=\"http://www.w3.org/2000/svg\" height=\"24px\"viewBox=\"0 0 24 24\"\n",
              "       width=\"24px\">\n",
              "    <path d=\"M0 0h24v24H0V0z\" fill=\"none\"/>\n",
              "    <path d=\"M18.56 5.44l.94 2.06.94-2.06 2.06-.94-2.06-.94-.94-2.06-.94 2.06-2.06.94zm-11 1L8.5 8.5l.94-2.06 2.06-.94-2.06-.94L8.5 2.5l-.94 2.06-2.06.94zm10 10l.94 2.06.94-2.06 2.06-.94-2.06-.94-.94-2.06-.94 2.06-2.06.94z\"/><path d=\"M17.41 7.96l-1.37-1.37c-.4-.4-.92-.59-1.43-.59-.52 0-1.04.2-1.43.59L10.3 9.45l-7.72 7.72c-.78.78-.78 2.05 0 2.83L4 21.41c.39.39.9.59 1.41.59.51 0 1.02-.2 1.41-.59l7.78-7.78 2.81-2.81c.8-.78.8-2.07 0-2.86zM5.41 20L4 18.59l7.72-7.72 1.47 1.35L5.41 20z\"/>\n",
              "  </svg>\n",
              "      </button>\n",
              "      \n",
              "  <style>\n",
              "    .colab-df-container {\n",
              "      display:flex;\n",
              "      flex-wrap:wrap;\n",
              "      gap: 12px;\n",
              "    }\n",
              "\n",
              "    .colab-df-convert {\n",
              "      background-color: #E8F0FE;\n",
              "      border: none;\n",
              "      border-radius: 50%;\n",
              "      cursor: pointer;\n",
              "      display: none;\n",
              "      fill: #1967D2;\n",
              "      height: 32px;\n",
              "      padding: 0 0 0 0;\n",
              "      width: 32px;\n",
              "    }\n",
              "\n",
              "    .colab-df-convert:hover {\n",
              "      background-color: #E2EBFA;\n",
              "      box-shadow: 0px 1px 2px rgba(60, 64, 67, 0.3), 0px 1px 3px 1px rgba(60, 64, 67, 0.15);\n",
              "      fill: #174EA6;\n",
              "    }\n",
              "\n",
              "    [theme=dark] .colab-df-convert {\n",
              "      background-color: #3B4455;\n",
              "      fill: #D2E3FC;\n",
              "    }\n",
              "\n",
              "    [theme=dark] .colab-df-convert:hover {\n",
              "      background-color: #434B5C;\n",
              "      box-shadow: 0px 1px 3px 1px rgba(0, 0, 0, 0.15);\n",
              "      filter: drop-shadow(0px 1px 2px rgba(0, 0, 0, 0.3));\n",
              "      fill: #FFFFFF;\n",
              "    }\n",
              "  </style>\n",
              "\n",
              "      <script>\n",
              "        const buttonEl =\n",
              "          document.querySelector('#df-2b82c1fd-37b6-414b-8884-22e879088cff button.colab-df-convert');\n",
              "        buttonEl.style.display =\n",
              "          google.colab.kernel.accessAllowed ? 'block' : 'none';\n",
              "\n",
              "        async function convertToInteractive(key) {\n",
              "          const element = document.querySelector('#df-2b82c1fd-37b6-414b-8884-22e879088cff');\n",
              "          const dataTable =\n",
              "            await google.colab.kernel.invokeFunction('convertToInteractive',\n",
              "                                                     [key], {});\n",
              "          if (!dataTable) return;\n",
              "\n",
              "          const docLinkHtml = 'Like what you see? Visit the ' +\n",
              "            '<a target=\"_blank\" href=https://colab.research.google.com/notebooks/data_table.ipynb>data table notebook</a>'\n",
              "            + ' to learn more about interactive tables.';\n",
              "          element.innerHTML = '';\n",
              "          dataTable['output_type'] = 'display_data';\n",
              "          await google.colab.output.renderOutput(dataTable, element);\n",
              "          const docLink = document.createElement('div');\n",
              "          docLink.innerHTML = docLinkHtml;\n",
              "          element.appendChild(docLink);\n",
              "        }\n",
              "      </script>\n",
              "    </div>\n",
              "  </div>\n",
              "  "
            ]
          },
          "metadata": {},
          "execution_count": 158
        }
      ]
    },
    {
      "cell_type": "code",
      "source": [
        "days = [\"Monday\", 'Tuesday', \"Wednesday\", \"Thursday\", \"Friday\", \"Saturday\", \"Sunday\"]\n",
        "\n",
        "fig, ax = plt.subplots(figsize=(15,12))\n",
        "ax = sns.heatmap(active_usage_pivot[days].fillna(0), robust=True, cmap=\"Blues\", ax = ax);\n",
        "ax.set(title=\"Heat Map of Spotify Usage\", xlabel=\"Days of the Week\",ylabel=\"Time(in 24 hrs format)\");"
      ],
      "metadata": {
        "colab": {
          "base_uri": "https://localhost:8080/",
          "height": 1000
        },
        "id": "ZN4P2haZsOpU",
        "outputId": "746ea2d3-a53a-4c6e-a4e7-aeeedf832097"
      },
      "execution_count": 159,
      "outputs": [
        {
          "output_type": "display_data",
          "data": {
            "text/plain": [
              "<Figure size 1500x1200 with 2 Axes>"
            ],
            "image/png": "[encoded data removed]"
          },
          "metadata": {
            "needs_background": "light"
          }
        }
      ]
    },
    {
      "cell_type": "code",
      "source": [
        ""
      ],
      "metadata": {
        "id": "5CH4aWfHsSPF"
      },
      "execution_count": 159,
      "outputs": []
    },
    {
      "cell_type": "markdown",
      "source": [
        "## Percentage of usage in weekend and weekday"
      ],
      "metadata": {
        "id": "5bNSv0wLCZY3"
      }
    },
    {
      "cell_type": "code",
      "source": [
        "extra_df = spotify_stream_df.copy()\n",
        "extra_df['is_weekend'] = extra_df[\"day-name\"].isin(['Sunday','Saturday'])\n",
        "weekday_vs_weekend = extra_df.groupby(['is_weekend'])[['Count']].sum()\n",
        "weekday_vs_weekend"
      ],
      "metadata": {
        "colab": {
          "base_uri": "https://localhost:8080/",
          "height": 143
        },
        "id": "y5SE5_XjsWkt",
        "outputId": "b0d3c417-37bd-4efa-9fd9-9a878d3739fc"
      },
      "execution_count": 160,
      "outputs": [
        {
          "output_type": "execute_result",
          "data": {
            "text/plain": [
              "            Count\n",
              "is_weekend       \n",
              "False       31010\n",
              "True        10379"
            ],
            "text/html": [
              "\n",
              "  <div id=\"df-9365eccc-5931-4a22-9854-47db4ca754ab\">\n",
              "    <div class=\"colab-df-container\">\n",
              "      <div>\n",
              "<style scoped>\n",
              "    .dataframe tbody tr th:only-of-type {\n",
              "        vertical-align: middle;\n",
              "    }\n",
              "\n",
              "    .dataframe tbody tr th {\n",
              "        vertical-align: top;\n",
              "    }\n",
              "\n",
              "    .dataframe thead th {\n",
              "        text-align: right;\n",
              "    }\n",
              "</style>\n",
              "<table border=\"1\" class=\"dataframe\">\n",
              "  <thead>\n",
              "    <tr style=\"text-align: right;\">\n",
              "      <th></th>\n",
              "      <th>Count</th>\n",
              "    </tr>\n",
              "    <tr>\n",
              "      <th>is_weekend</th>\n",
              "      <th></th>\n",
              "    </tr>\n",
              "  </thead>\n",
              "  <tbody>\n",
              "    <tr>\n",
              "      <th>False</th>\n",
              "      <td>31010</td>\n",
              "    </tr>\n",
              "    <tr>\n",
              "      <th>True</th>\n",
              "      <td>10379</td>\n",
              "    </tr>\n",
              "  </tbody>\n",
              "</table>\n",
              "</div>\n",
              "      <button class=\"colab-df-convert\" onclick=\"convertToInteractive('df-9365eccc-5931-4a22-9854-47db4ca754ab')\"\n",
              "              title=\"Convert this dataframe to an interactive table.\"\n",
              "              style=\"display:none;\">\n",
              "        \n",
              "  <svg xmlns=\"http://www.w3.org/2000/svg\" height=\"24px\"viewBox=\"0 0 24 24\"\n",
              "       width=\"24px\">\n",
              "    <path d=\"M0 0h24v24H0V0z\" fill=\"none\"/>\n",
              "    <path d=\"M18.56 5.44l.94 2.06.94-2.06 2.06-.94-2.06-.94-.94-2.06-.94 2.06-2.06.94zm-11 1L8.5 8.5l.94-2.06 2.06-.94-2.06-.94L8.5 2.5l-.94 2.06-2.06.94zm10 10l.94 2.06.94-2.06 2.06-.94-2.06-.94-.94-2.06-.94 2.06-2.06.94z\"/><path d=\"M17.41 7.96l-1.37-1.37c-.4-.4-.92-.59-1.43-.59-.52 0-1.04.2-1.43.59L10.3 9.45l-7.72 7.72c-.78.78-.78 2.05 0 2.83L4 21.41c.39.39.9.59 1.41.59.51 0 1.02-.2 1.41-.59l7.78-7.78 2.81-2.81c.8-.78.8-2.07 0-2.86zM5.41 20L4 18.59l7.72-7.72 1.47 1.35L5.41 20z\"/>\n",
              "  </svg>\n",
              "      </button>\n",
              "      \n",
              "  <style>\n",
              "    .colab-df-container {\n",
              "      display:flex;\n",
              "      flex-wrap:wrap;\n",
              "      gap: 12px;\n",
              "    }\n",
              "\n",
              "    .colab-df-convert {\n",
              "      background-color: #E8F0FE;\n",
              "      border: none;\n",
              "      border-radius: 50%;\n",
              "      cursor: pointer;\n",
              "      display: none;\n",
              "      fill: #1967D2;\n",
              "      height: 32px;\n",
              "      padding: 0 0 0 0;\n",
              "      width: 32px;\n",
              "    }\n",
              "\n",
              "    .colab-df-convert:hover {\n",
              "      background-color: #E2EBFA;\n",
              "      box-shadow: 0px 1px 2px rgba(60, 64, 67, 0.3), 0px 1px 3px 1px rgba(60, 64, 67, 0.15);\n",
              "      fill: #174EA6;\n",
              "    }\n",
              "\n",
              "    [theme=dark] .colab-df-convert {\n",
              "      background-color: #3B4455;\n",
              "      fill: #D2E3FC;\n",
              "    }\n",
              "\n",
              "    [theme=dark] .colab-df-convert:hover {\n",
              "      background-color: #434B5C;\n",
              "      box-shadow: 0px 1px 3px 1px rgba(0, 0, 0, 0.15);\n",
              "      filter: drop-shadow(0px 1px 2px rgba(0, 0, 0, 0.3));\n",
              "      fill: #FFFFFF;\n",
              "    }\n",
              "  </style>\n",
              "\n",
              "      <script>\n",
              "        const buttonEl =\n",
              "          document.querySelector('#df-9365eccc-5931-4a22-9854-47db4ca754ab button.colab-df-convert');\n",
              "        buttonEl.style.display =\n",
              "          google.colab.kernel.accessAllowed ? 'block' : 'none';\n",
              "\n",
              "        async function convertToInteractive(key) {\n",
              "          const element = document.querySelector('#df-9365eccc-5931-4a22-9854-47db4ca754ab');\n",
              "          const dataTable =\n",
              "            await google.colab.kernel.invokeFunction('convertToInteractive',\n",
              "                                                     [key], {});\n",
              "          if (!dataTable) return;\n",
              "\n",
              "          const docLinkHtml = 'Like what you see? Visit the ' +\n",
              "            '<a target=\"_blank\" href=https://colab.research.google.com/notebooks/data_table.ipynb>data table notebook</a>'\n",
              "            + ' to learn more about interactive tables.';\n",
              "          element.innerHTML = '';\n",
              "          dataTable['output_type'] = 'display_data';\n",
              "          await google.colab.output.renderOutput(dataTable, element);\n",
              "          const docLink = document.createElement('div');\n",
              "          docLink.innerHTML = docLinkHtml;\n",
              "          element.appendChild(docLink);\n",
              "        }\n",
              "      </script>\n",
              "    </div>\n",
              "  </div>\n",
              "  "
            ]
          },
          "metadata": {},
          "execution_count": 160
        }
      ]
    },
    {
      "cell_type": "code",
      "source": [
        "weekday_vs_weekend[\"Percentage\"] = weekday_vs_weekend[\"Count\"]/weekday_vs_weekend[\"Count\"].sum()*100\n",
        "weekday_vs_weekend"
      ],
      "metadata": {
        "colab": {
          "base_uri": "https://localhost:8080/",
          "height": 143
        },
        "id": "Hnx-mJ93sZPX",
        "outputId": "6098a78c-2508-46a4-86f7-e7eed83ab593"
      },
      "execution_count": 161,
      "outputs": [
        {
          "output_type": "execute_result",
          "data": {
            "text/plain": [
              "            Count  Percentage\n",
              "is_weekend                   \n",
              "False       31010   74.923289\n",
              "True        10379   25.076711"
            ],
            "text/html": [
              "\n",
              "  <div id=\"df-9e0bfe50-3c4c-4790-adde-20b009b25cf9\">\n",
              "    <div class=\"colab-df-container\">\n",
              "      <div>\n",
              "<style scoped>\n",
              "    .dataframe tbody tr th:only-of-type {\n",
              "        vertical-align: middle;\n",
              "    }\n",
              "\n",
              "    .dataframe tbody tr th {\n",
              "        vertical-align: top;\n",
              "    }\n",
              "\n",
              "    .dataframe thead th {\n",
              "        text-align: right;\n",
              "    }\n",
              "</style>\n",
              "<table border=\"1\" class=\"dataframe\">\n",
              "  <thead>\n",
              "    <tr style=\"text-align: right;\">\n",
              "      <th></th>\n",
              "      <th>Count</th>\n",
              "      <th>Percentage</th>\n",
              "    </tr>\n",
              "    <tr>\n",
              "      <th>is_weekend</th>\n",
              "      <th></th>\n",
              "      <th></th>\n",
              "    </tr>\n",
              "  </thead>\n",
              "  <tbody>\n",
              "    <tr>\n",
              "      <th>False</th>\n",
              "      <td>31010</td>\n",
              "      <td>74.923289</td>\n",
              "    </tr>\n",
              "    <tr>\n",
              "      <th>True</th>\n",
              "      <td>10379</td>\n",
              "      <td>25.076711</td>\n",
              "    </tr>\n",
              "  </tbody>\n",
              "</table>\n",
              "</div>\n",
              "      <button class=\"colab-df-convert\" onclick=\"convertToInteractive('df-9e0bfe50-3c4c-4790-adde-20b009b25cf9')\"\n",
              "              title=\"Convert this dataframe to an interactive table.\"\n",
              "              style=\"display:none;\">\n",
              "        \n",
              "  <svg xmlns=\"http://www.w3.org/2000/svg\" height=\"24px\"viewBox=\"0 0 24 24\"\n",
              "       width=\"24px\">\n",
              "    <path d=\"M0 0h24v24H0V0z\" fill=\"none\"/>\n",
              "    <path d=\"M18.56 5.44l.94 2.06.94-2.06 2.06-.94-2.06-.94-.94-2.06-.94 2.06-2.06.94zm-11 1L8.5 8.5l.94-2.06 2.06-.94-2.06-.94L8.5 2.5l-.94 2.06-2.06.94zm10 10l.94 2.06.94-2.06 2.06-.94-2.06-.94-.94-2.06-.94 2.06-2.06.94z\"/><path d=\"M17.41 7.96l-1.37-1.37c-.4-.4-.92-.59-1.43-.59-.52 0-1.04.2-1.43.59L10.3 9.45l-7.72 7.72c-.78.78-.78 2.05 0 2.83L4 21.41c.39.39.9.59 1.41.59.51 0 1.02-.2 1.41-.59l7.78-7.78 2.81-2.81c.8-.78.8-2.07 0-2.86zM5.41 20L4 18.59l7.72-7.72 1.47 1.35L5.41 20z\"/>\n",
              "  </svg>\n",
              "      </button>\n",
              "      \n",
              "  <style>\n",
              "    .colab-df-container {\n",
              "      display:flex;\n",
              "      flex-wrap:wrap;\n",
              "      gap: 12px;\n",
              "    }\n",
              "\n",
              "    .colab-df-convert {\n",
              "      background-color: #E8F0FE;\n",
              "      border: none;\n",
              "      border-radius: 50%;\n",
              "      cursor: pointer;\n",
              "      display: none;\n",
              "      fill: #1967D2;\n",
              "      height: 32px;\n",
              "      padding: 0 0 0 0;\n",
              "      width: 32px;\n",
              "    }\n",
              "\n",
              "    .colab-df-convert:hover {\n",
              "      background-color: #E2EBFA;\n",
              "      box-shadow: 0px 1px 2px rgba(60, 64, 67, 0.3), 0px 1px 3px 1px rgba(60, 64, 67, 0.15);\n",
              "      fill: #174EA6;\n",
              "    }\n",
              "\n",
              "    [theme=dark] .colab-df-convert {\n",
              "      background-color: #3B4455;\n",
              "      fill: #D2E3FC;\n",
              "    }\n",
              "\n",
              "    [theme=dark] .colab-df-convert:hover {\n",
              "      background-color: #434B5C;\n",
              "      box-shadow: 0px 1px 3px 1px rgba(0, 0, 0, 0.15);\n",
              "      filter: drop-shadow(0px 1px 2px rgba(0, 0, 0, 0.3));\n",
              "      fill: #FFFFFF;\n",
              "    }\n",
              "  </style>\n",
              "\n",
              "      <script>\n",
              "        const buttonEl =\n",
              "          document.querySelector('#df-9e0bfe50-3c4c-4790-adde-20b009b25cf9 button.colab-df-convert');\n",
              "        buttonEl.style.display =\n",
              "          google.colab.kernel.accessAllowed ? 'block' : 'none';\n",
              "\n",
              "        async function convertToInteractive(key) {\n",
              "          const element = document.querySelector('#df-9e0bfe50-3c4c-4790-adde-20b009b25cf9');\n",
              "          const dataTable =\n",
              "            await google.colab.kernel.invokeFunction('convertToInteractive',\n",
              "                                                     [key], {});\n",
              "          if (!dataTable) return;\n",
              "\n",
              "          const docLinkHtml = 'Like what you see? Visit the ' +\n",
              "            '<a target=\"_blank\" href=https://colab.research.google.com/notebooks/data_table.ipynb>data table notebook</a>'\n",
              "            + ' to learn more about interactive tables.';\n",
              "          element.innerHTML = '';\n",
              "          dataTable['output_type'] = 'display_data';\n",
              "          await google.colab.output.renderOutput(dataTable, element);\n",
              "          const docLink = document.createElement('div');\n",
              "          docLink.innerHTML = docLinkHtml;\n",
              "          element.appendChild(docLink);\n",
              "        }\n",
              "      </script>\n",
              "    </div>\n",
              "  </div>\n",
              "  "
            ]
          },
          "metadata": {},
          "execution_count": 161
        }
      ]
    },
    {
      "cell_type": "code",
      "source": [
        "fig, (ax1,ax2) = plt.subplots(1,2,figsize=(18,6))\n",
        "ax1 = sns.barplot(x=[\"False\",\"True\"],y=\"Count\",data=weekday_vs_weekend,ax=ax1)\n",
        "ax1.set(title=\"Weekday vs Weekend\",xlabel=\"Is it Weekend\",ylabel=\"Counts of Songs Played\");\n",
        "\n",
        "ax2 = sns.barplot(x=[\"False\",\"True\"],y=\"Percentage\",data=weekday_vs_weekend,color=\"Olive\",ax=ax2)\n",
        "ax2.set(title=\"Weekday vs Weekend (Percentage)\",xlabel=\"Is it Weekend\",ylabel=\"Percentage of Songs Played\");"
      ],
      "metadata": {
        "colab": {
          "base_uri": "https://localhost:8080/",
          "height": 534
        },
        "id": "p4f6e-w-sbpl",
        "outputId": "61313891-aeec-4078-c986-b99cb414e895"
      },
      "execution_count": 162,
      "outputs": [
        {
          "output_type": "display_data",
          "data": {
            "text/plain": [
              "<Figure size 1800x600 with 2 Axes>"
            ],
            "image/png": "[encoded data removed]"
          },
          "metadata": {
            "needs_background": "light"
          }
        }
      ]
    },
    {
      "cell_type": "code",
      "source": [],
      "metadata": {
        "id": "OThUpJjdseX-"
      },
      "execution_count": 162,
      "outputs": []
    }
  ]
}